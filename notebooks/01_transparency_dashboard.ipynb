{
 "cells": [
  {
   "cell_type": "markdown",
   "metadata": {},
   "source": [
    "# Transparency Dashboard Analysis\n",
    "\n",
    "This notebook analyzes budget execution and programmatic indicators from Carmen de Areco's transparency portal."
   ]
  },
  {
   "cell_type": "code",
   "execution_count": null,
   "metadata": {},
   "outputs": [],
   "source": [
    "# Cell 1: Setup\n",
    "import pandas as pd\n",
    "import plotly.express as px\n",
    "import plotly.graph_objects as go\n",
    "from plotly.subplots import make_subplots\n",
    "import os\n",
    "\n",
    "# Ensure output dir\n",
    "os.makedirs(\"../public/charts\", exist_ok=True)"
   ]
  },
  {
   "cell_type": "code",
   "execution_count": null,
   "metadata": {},
   "outputs": [],
   "source": [
    "# Cell 2: Load Data\n",
    "df_2019 = pd.read_csv(\"../data/processed/budget_execution_2019.csv\")\n",
    "df_2021 = pd.read_csv(\"../data/processed/budget_execution_2021.csv\")\n",
    "df_ind = pd.read_csv(\"../data/processed/programmatic_indicators.csv\")"
   ]
  },
  {
   "cell_type": "code",
   "execution_count": null,
   "metadata": {},
   "outputs": [],
   "source": [
    "# Cell 3: Chart 1 – 2019 Budget vs Execution by Sector\n",
    "fig1 = px.bar(\n",
    "    df_2019,\n",
    "    x=\"sector\",\n",
    "    y=[\"budget\", \"execution\"],\n",
    "    title=\"Ejecución Presupuestaria 2019 por Sector\",\n",
    "    labels={\"value\": \"Monto (ARS)\", \"variable\": \"Tipo\"},\n",
    "    barmode=\"group\",\n",
    "    color_discrete_sequence=[\"#1f77b4\", \"#ff7f0e\"]\n",
    ")\n",
    "fig1.update_layout(xaxis_tickangle=-45)\n",
    "fig1.show()\n",
    "fig1.write_html(\"../public/charts/budget_2019.html\")"
   ]
  },
  {
   "cell_type": "code",
   "execution_count": null,
   "metadata": {},
   "outputs": [],
   "source": [
    "# Cell 4: Chart 2 – 2021 Quarterly Execution Trend\n",
    "df_q = df_2021[df_2021[\"Quarter\"] != \"Total\"]\n",
    "fig2 = go.Figure()\n",
    "fig2.add_trace(go.Bar(x=df_q[\"Quarter\"], y=df_q[\"Budgeted\"], name=\"Presupuestado\"))\n",
    "fig2.add_trace(go.Bar(x=df_q[\"Quarter\"], y=df_q[\"Executed\"], name=\"Ejecutado\"))\n",
    "fig2.add_trace(go.Scatter(x=df_q[\"Quarter\"], y=df_q[\"Percentage\"], \n",
    "                         mode=\"lines+markers\", name=\"% Ejecución\", yaxis=\"y2\"))\n",
    "\n",
    "fig2.update_layout(\n",
    "    title=\"Ejecución Trimestral 2021\",\n",
    "    yaxis=dict(title=\"Monto (ARS)\"),\n",
    "    yaxis2=dict(title=\"% Ejecución\", overlaying=\"y\", side=\"right\"),\n",
    "    barmode=\"group\"\n",
    ")\n",
    "fig2.show()\n",
    "fig2.write_html(\"../public/charts/budget_2021_quarterly.html\")"
   ]
  },
  {
   "cell_type": "code",
   "execution_count": null,
   "metadata": {},
   "outputs": [],
   "source": [
    "# Cell 5: Chart 3 – Security Cameras Over Time\n",
    "df_cam = df_ind[df_ind[\"indicator\"] == \"security_cameras\"].dropna(subset=[\"executed\"])\n",
    "df_cam = df_cam.sort_values(\"source_file\")\n",
    "\n",
    "fig3 = px.line(\n",
    "    df_cam,\n",
    "    x=\"source_file\",\n",
    "    y=[\"planned\", \"executed\"],\n",
    "    title=\"Cámaras de Seguridad: Plan vs Ejecución\",\n",
    "    markers=True,\n",
    "    labels={\"value\": \"Cantidad\", \"variable\": \"Tipo\"}\n",
    ")\n",
    "fig3.update_layout(xaxis_title=\"Reporte (PDF)\", xaxis_tickangle=-45)\n",
    "fig3.show()\n",
    "fig3.write_html(\"../public/charts/cameras_timeline.html\")\n",
    "\n",
    "# Insight: In Q4 2023, 298 cameras were installed vs 198 planned → 150% execution"
   ]
  },
  {
   "cell_type": "code",
   "execution_count": null,
   "metadata": {},
   "outputs": [],
   "source": [
    "# Cell 6: Chart 4 – Families Assisted\n",
    "df_fam = df_ind[df_ind[\"indicator\"] == \"families_assisted\"].dropna(subset=[\"executed\"])\n",
    "df_fam = df_fam.sort_values(\"source_file\")\n",
    "\n",
    "fig4 = px.bar(\n",
    "    df_fam,\n",
    "    x=\"source_file\",\n",
    "    y=\"executed\",\n",
    "    title=\"Familias Asistidas por Programa\",\n",
    "    labels={\"executed\": \"Cantidad\", \"source_file\": \"Reporte\"}\n",
    ")\n",
    "fig4.update_layout(xaxis_tickangle=-45)\n",
    "fig4.show()\n",
    "fig4.write_html(\"../public/charts/families_assisted.html\")"
   ]
  },
  {
   "cell_type": "code",
   "execution_count": null,
   "metadata": {},
   "outputs": [],
   "source": [
    "# Cell 7: (Optional) Gender Staffing – If you parse it later\n",
    "# You can add this once you extract gender data from PDF headers like \n",
    "# “PLANTEL DEL PERSONAL DESAGREGADO SEGÚN GÉNERO”"
   ]
  }
 ],
 "metadata": {
  "kernelspec": {
   "display_name": "Python 3",
   "language": "python",
   "name": "python3"
  },
  "language_info": {
   "codemirror_mode": {
    "name": "ipython",
    "version": 3
   },
   "file_extension": ".py",
   "mimetype": "text/x-python",
   "name": "python",
   "nbconvert_exporter": "python",
   "pygments_lexer": "ipython3",
   "version": "3.8.10"
  }
 },
 "nbformat": 4,
 "nbformat_minor": 4
}