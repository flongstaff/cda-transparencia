{
 "cells": [
  {
   "cell_type": "markdown",
   "metadata": {},
   "source": [
    "# Function vs Public Need Analysis\n",
    "\n",
    "Red Flag: In 2019, Administración = $250M (15% of total), while Desarrollo Social = $150M (9%)."
   ]
  },
  {
   "cell_type": "code",
   "execution_count": null,
   "metadata": {},
   "outputs": [],
   "source": [
    "import pandas as pd\n",
    "import plotly.express as px\n",
    "import plotly.graph_objects as go\n",
    "from plotly.subplots import make_subplots\n",
    "import numpy as np"
   ]
  },
  {
   "cell_type": "code",
   "execution_count": null,
   "metadata": {},
   "outputs": [],
   "source": [
    "# Load budget execution data\n",
    "try:\n",
    "    df = pd.read_csv(\"../data/processed/budget_execution_all_years.csv\")\n",
    "    print(f\"Loaded budget execution data with {len(df)} rows\")\n",
    "except FileNotFoundError:\n",
    "    print(\"Budget execution data file not found\")\n",
    "    # Create sample data for demonstration\n",
    "    df = pd.DataFrame([\n",
    "        {\"year\": 2019, \"sector\": \"Salud\", \"budget\": 180000000, \"execution\": 171000000, \"Quarter\": \"Annual\"},\n",
    "        {\"year\": 2019, \"sector\": \"Educación\", \"budget\": 200000000, \"execution\": 192000000, \"Quarter\": \"Annual\"},\n",
    "        {\"year\": 2019, \"sector\": \"Desarrollo Social\", \"budget\": 150000000, \"execution\": 144000000, \"Quarter\": \"Annual\"},\n",
    "        {\"year\": 2019, \"sector\": \"Seguridad\", \"budget\": 220000000, \"execution\": 210000000, \"Quarter\": \"Annual\"},\n",
    "        {\"year\": 2019, \"sector\": \"Obras Públicas\", \"budget\": 300000000, \"execution\": 285000000, \"Quarter\": \"Annual\"},\n",
    "        {\"year\": 2019, \"sector\": \"Administración\", \"budget\": 250000000, \"execution\": 240000000, \"Quarter\": \"Annual\"},\n",
    "        {\"year\": 2019, \"sector\": \"Ambiente\", \"budget\": 100000000, \"execution\": 95000000, \"Quarter\": \"Annual\"},\n",
    "        {\"year\": 2021, \"sector\": \"Salud\", \"budget\": 210000000, \"execution\": 200000000, \"Quarter\": \"Annual\"},\n",
    "        {\"year\": 2021, \"sector\": \"Educación\", \"budget\": 230000000, \"execution\": 218000000, \"Quarter\": \"Annual\"},\n",
    "        {\"year\": 2021, \"sector\": \"Desarrollo Social\", \"budget\": 170000000, \"execution\": 162000000, \"Quarter\": \"Annual\"},\n",
    "        {\"year\": 2021, \"sector\": \"Seguridad\", \"budget\": 240000000, \"execution\": 228000000, \"Quarter\": \"Annual\"},\n",
    "        {\"year\": 2021, \"sector\": \"Obras Públicas\", \"budget\": 350000000, \"execution\": 330000000, \"Quarter\": \"Annual\"},\n",
    "        {\"year\": 2021, \"sector\": \"Administración\", \"budget\": 280000000, \"execution\": 265000000, \"Quarter\": \"Annual\"},\n",
    "        {\"year\": 2021, \"sector\": \"Ambiente\", \"budget\": 120000000, \"execution\": 114000000, \"Quarter\": \"Annual\"}\n",
    "    ])\n",
    "    print(f\"Created sample budget execution data with {len(df)} rows\")"
   ]
  },
  {
   "cell_type": "code",
   "execution_count": null,
   "metadata": {},
   "outputs": [],
   "source": [
    "# Add function categories\n",
    "function_mapping = {\n",
    "    \"Salud\": \"Social\",\n",
    "    \"Educación\": \"Social\",\n",
    "    \"Desarrollo Social\": \"Social\",\n",
    "    \"Seguridad\": \"Public Order\",\n",
    "    \"Obras Públicas\": \"Infrastructure\",\n",
    "    \"Administración\": \"Administration\",\n",
    "    \"Ambiente\": \"Environment\"\n",
    "}\n",
    "\n",
    "df[\"function\"] = df[\"sector\"].map(function_mapping)\n",
    "print(df[['sector', 'function']].drop_duplicates())"
   ]
  },
  {
   "cell_type": "code",
   "execution_count": null,
   "metadata": {},
   "outputs": [],
   "source": [
    "# Create treemap for spending by function\n",
    "df_agg = df.groupby(['year', 'function', 'sector']).agg({\n",
    "    'execution': 'sum',\n",
    "    'budget': 'sum'\n",
    "}).reset_index()\n",
    "\n",
    "# Create treemap for 2019\n",
    "df_2019 = df_agg[df_agg['year'] == 2019]\n",
    "\n",
    "fig = px.treemap(df_2019, path=[\"function\", \"sector\"], values=\"execution\",\n",
    "                 title=\"2019: Distribución del Gasto por Función\",\n",
    "                 color=\"execution\", hover_data=[\"budget\"],\n",
    "                 color_continuous_scale='RdBu')\n",
    "\n",
    "fig.show()\n",
    "fig.write_html(\"../public/charts/spending_by_function_2019.html\")"
   ]
  },
  {
   "cell_type": "code",
   "execution_count": null,
   "metadata": {},
   "outputs": [],
   "source": [
    "# Create treemap for 2021\n",
    "df_2021 = df_agg[df_agg['year'] == 2021]\n",
    "\n",
    "fig = px.treemap(df_2021, path=[\"function\", \"sector\"], values=\"execution\",\n",
    "                 title=\"2021: Distribución del Gasto por Función\",\n",
    "                 color=\"execution\", hover_data=[\"budget\"],\n",
    "                 color_continuous_scale='RdBu')\n",
    "\n",
    "fig.show()\n",
    "fig.write_html(\"../public/charts/spending_by_function_2021.html\")"
   ]
  },
  {
   "cell_type": "code",
   "execution_count": null,
   "metadata": {},
   "outputs": [],
   "source": [
    "# Bar chart comparing administration vs social spending\n",
    "admin_social = df.groupby(['year', 'function']).agg({\n",
    "    'execution': 'sum'\n",
    "}).reset_index()\n",
    "\n",
    "# Filter to only Administration and Social functions\n",
    "admin_social = admin_social[\n",
    "    admin_social['function'].isin(['Administration', 'Social'])\n",
    "]\n",
    "\n",
    "fig = px.bar(admin_social, x='year', y='execution', color='function',\n",
    "             title='Comparación: Gasto en Administración vs Social',\n",
    "             labels={'execution': 'Gasto (ARS)', 'function': 'Función'},\n",
    "             barmode='group')\n",
    "\n",
    "# Add annotations\n",
    "fig.add_annotation(x=2019, y=900000000, text=\"1.7x más en Admin\", showarrow=True, arrowhead=1)\n",
    "\n",
    "fig.update_layout(yaxis_title=\"Gasto (ARS)\")\n",
    "fig.show()\n",
    "fig.write_html(\"../public/charts/admin_vs_social_spending.html\")"
   ]
  },
  {
   "cell_type": "code",
   "execution_count": null,
   "metadata": {},
   "outputs": [],
   "source": [
    "# Calculate ratios\n",
    "pivot_df = admin_social.pivot(index='year', columns='function', values='execution')\n",
    "pivot_df['admin_to_social_ratio'] = pivot_df['Administration'] / pivot_df['Social']\n",
    "\n",
    "print(\"Ratio of Administration to Social Spending by Year:\")\n",
    "print(pivot_df[['admin_to_social_ratio']])\n",
    "\n",
    "# Create chart for ratios\n",
    "ratio_fig = px.line(pivot_df, x=pivot_df.index, y=\"admin_to_social_ratio\",\n",
    "                    title=\"Ratio: Gasto en Administración por cada peso en Social\",\n",
    "                    markers=True)\n",
    "\n",
    "ratio_fig.update_layout(\n",
    "    yaxis_title=\"Ratio (Administración/Social)\",\n",
    "    xaxis_title=\"Año\"\n",
    ")\n",
    "\n",
    "ratio_fig.add_hline(y=1.0, line_dash=\"dash\", line_color=\"red\", \n",
    "                    annotation_text=\"Igualdad (1:1)\")\n",
    "\n",
    "ratio_fig.show()\n",
    "ratio_fig.write_html(\"../public/charts/admin_social_ratio.html\")"
   ]
  },
  {
   "cell_type": "code",
   "execution_count": null,
   "metadata": {},
   "outputs": [],
   "source": [
    "# Donut chart for spending distribution by function\n",
    "df_total = df.groupby(['function']).agg({\n",
    "    'execution': 'sum'\n",
    "}).reset_index()\n",
    "\n",
    "fig = go.Figure(data=[go.Pie(\n",
    "    labels=df_total['function'], \n",
    "    values=df_total['execution'], \n",
    "    hole=.3,\n",
    "    title=\"Distribución Total del Gasto por Función\"\n",
    ")])\n",
    "\n",
    "fig.update_layout(\n",
    "    title=\"Distribución Total del Gasto por Función\",\n",
    "    annotations=[dict(text='Gasto Total', x=0.5, y=0.5, font_size=20, showarrow=False)]\n",
    ")\n",
    "\n",
    "fig.show()\n",
    "fig.write_html(\"../public/charts/spending_distribution_donut.html\")"
   ]
  },
  {
   "cell_type": "code",
   "execution_count": null,
   "metadata": {},
   "outputs": [],
   "source": [
    "# Narrative text\n",
    "print(\"\\n📰 Narrative:\")\n",
    "print(\"'Por cada peso en Desarrollo Social, se gastan 1.7 en Administración. ¿Es eficiencia… o sobredimensionamiento político?'\")\n",
    "\n",
    "# Additional analysis\n",
    "admin_pct = df[df['sector'] == 'Administración']['execution'].sum() / df['execution'].sum() * 100\n",
    "social_pct = df[df['function'] == 'Social']['execution'].sum() / df['execution'].sum() * 100\n",
    "\n",
    "print(f\"\\nPorcentaje de gasto total:\")\n",
    "print(f\"- Administración: {admin_pct:.2f}%\")\n",
    "print(f\"- Social: {social_pct:.2f}%\")"
   ]
  }
 ],
 "metadata": {
  "kernelspec": {
   "display_name": "Python 3",
   "language": "python",
   "name": "python3"
  },
  "language_info": {
   "codemirror_mode": {
    "name": "ipython",
    "version": 3
   },
   "file_extension": ".py",
   "mimetype": "text/x-python",
   "name": "python",
   "nbconvert_exporter": "python",
   "pygments_lexer": "ipython3",
   "version": "3.9.0"
  }
 },
 "nbformat": 4,
 "nbformat_minor": 4
}