{
 \"cells\": [
  {
   \"cell_type\": \"markdown\",
   \"metadata\": {},
   \"source\": [
    \"# Gender Perspective Analysis\\n\\nRed Flag: No spending data labeled \\\"con perspectiva de género\\\" in execution tables.\"
   ]
  },
  {
   \"cell_type\": \"code\",
   \"execution_count\": null,
   \"metadata\": {},
   \"outputs\": [],
   \"source\": [
    \"import pandas as pd\\nimport plotly.express as px\\nimport plotly.graph_objects as go\\nfrom plotly.subplots import make_subplots\\nimport numpy as np\\nimport os\"
   ]
  },
  {
   \"cell_type\": \"code\",
   \"execution_count\": null,
   \"metadata\": {},
   \"outputs\": [],
   \"source\": [
    \"# Check if category_caif.csv exists\\ncaif_path = \\\"../data/raw/csv/category_caif.csv\\\"\\nif os.path.exists(caif_path):\\n    print(f\\\"Found category_caif.csv at {caif_path}\\\")\\nelse:\\n    print(f\\\"category_caif.csv not found at {caif_path}\\\")\\n    \\n# Look for gender-related data in various possible locations\\npossible_paths = [\\n    \\\"../data/processed/gender_spending.csv\\\",\\n    \\\"../data/raw/gender_spending.csv\\\",\\n    \\\"../data/processed/budget_execution_all_years.csv\\\",\\n    \\\"../data/csv/gender_staffing.csv\\\",\\n    \\\"../frontend/public/data/csv/gender_staffing.csv\\\"\\n]\\n\\ngender_data_found = False\\nfor path in possible_paths:\\n    if os.path.exists(path):\\n        print(f\\\"Found data at: {path}\\\")\\n        gender_data_found = True\\n        break\\n\\nif not gender_data_found:\\n    print(\\\"No gender-related data found, creating sample data\\\")\\n    \\n    # Create sample budget data with gender perspective columns if they don't exist\\n    budget_data = pd.DataFrame([\\n        {\\\"year\\\": 2019, \\\"sector\\\": \\\"Salud\\\", \\\"budget\\\": 180000000, \\\"execution\\\": 171000000, \\\"gender_budget\\\": 0, \\\"gender_execution\\\": 0},\\n        {\\\"year\\\": 2019, \\\"sector\\\": \\\"Educación\\\", \\\"budget\\\": 200000000, \\\"execution\\\": 192000000, \\\"gender_budget\\\": 0, \\\"gender_execution\\\": 0},\\n        {\\\"year\\\": 2019, \\\"sector\\\": \\\"Desarrollo Social\\\", \\\"budget\\\": 150000000, \\\"execution\\\": 144000000, \\\"gender_budget\\\": 1000000, \\\"gender_execution\\\": 0},\\n        {\\\"year\\\": 2019, \\\"sector\\\": \\\"Obras Públicas\\\", \\\"budget\\\": 300000000, \\\"execution\\\": 285000000, \\\"gender_budget\\\": 0, \\\"gender_execution\\\": 0},\\n        {\\\"year\\\": 2019, \\\"sector\\\": \\\"Administración\\\", \\\"budget\\\": 250000000, \\\"execution\\\": 240000000, \\\"gender_budget\\\": 0, \\\"gender_execution\\\": 0},\\n        {\\\"year\\\": 2020, \\\"sector\\\": \\\"Salud\\\", \\\"budget\\\": 210000000, \\\"execution\\\": 200000000, \\\"gender_budget\\\": 0, \\\"gender_execution\\\": 0},\\n        {\\\"year\\\": 2020, \\\"sector\\\": \\\"Educación\\\", \\\"budget\\\": 230000000, \\\"execution\\\": 218000000, \\\"gender_budget\\\": 0, \\\"gender_execution\\\": 0},\\n        {\\\"year\\\": 2020, \\\"sector\\\": \\\"Desarrollo Social\\\", \\\"budget\\\": 170000000, \\\"execution\\\": 162000000, \\\"gender_budget\\\": 1200000, \\\"gender_execution\\\": 0},\\n        {\\\"year\\\": 2020, \\\"sector\\\": \\\"Obras Públicas\\\", \\\"budget\\\": 350000000, \\\"execution\\\": 330000000, \\\"gender_budget\\\": 0, \\\"gender_execution\\\": 0},\\n        {\\\"year\\\": 2020, \\\"sector\\\": \\\"Administración\\\", \\\"budget\\\": 280000000, \\\"execution\\\": 265000000, \\\"gender_budget\\\": 0, \\\"gender_execution\\\": 0},\\n        {\\\"year\\\": 2021, \\\"sector\\\": \\\"Salud\\\", \\\"budget\\\": 220000000, \\\"execution\\\": 210000000, \\\"gender_budget\\\": 0, \\\"gender_execution\\\": 0},\\n        {\\\"year\\\": 2021, \\\"sector\\\": \\\"Educación\\\", \\\"budget\\\": 240000000, \\\"execution\\\": 228000000, \\\"gender_budget\\\": 0, \\\"gender_execution\\\": 0},\\n        {\\\"year\\\": 2021, \\\"sector\\\": \\\"Desarrollo Social\\\", \\\"budget\\\": 180000000, \\\"execution\\\": 171000000, \\\"gender_budget\\\": 1500000, \\\"gender_execution\\\": 0},\\n        {\\\"year\\\": 2021, \\\"sector\\\": \\\"Obras Públicas\\\", \\\"budget\\\": 380000000, \\\"execution\\\": 360000000, \\\"gender_budget\\\": 0, \\\"gender_execution\\\": 0},\\n        {\\\"year\\\": 2021, \\\"sector\\\": \\\"Administración\\\", \\\"budget\\\": 300000000, \\\"execution\\\": 285000000, \\\"gender_budget\\\": 0, \\\"gender_execution\\\": 0}\\n    ])\\nelse:\\n    # Try to load the found data\\n    try:\\n        budget_data = pd.read_csv(path)\\n        print(f\\\"Loaded budget data from {path} with {len(budget_data)} rows\\\")\\n    except Exception as e:\\n        print(f\\\"Error loading data: {e}\\\")\\n        # Fall back to sample data\\n        budget_data = pd.DataFrame([\\n            {\\\"year\\\": 2019, \\\"sector\\\": \\\"Salud\\\", \\\"budget\\\": 180000000, \\\"execution\\\": 171000000, \\\"gender_budget\\\": 0, \\\"gender_execution\\\": 0},\\n            {\\\"year\\\": 2019, \\\"sector\\\": \\\"Educación\\\", \\\"budget\\\": 200000000, \\\"execution\\\": 192000000, \\\"gender_budget\\\": 0, \\\"gender_execution\\\": 0},\\n            {\\\"year\\\": 2019, \\\"sector\\\": \\\"Desarrollo Social\\\", \\\"budget\\\": 150000000, \\\"execution\\\": 144000000, \\\"gender_budget\\\": 1000000, \\\"gender_execution\\\": 0},\\n            {\\\"year\\\": 2019, \\\"sector\\\": \\\"Obras Públicas\\\", \\\"budget\\\": 300000000, \\\"execution\\\": 285000000, \\\"gender_budget\\\": 0, \\\"gender_execution\\\": 0},\\n            {\\\"year\\\": 2019, \\\"sector\\\": \\\"Administración\\\", \\\"budget\\\": 250000000, \\\"execution\\\": 240000000, \\\"gender_budget\\\": 0, \\\"gender_execution\\\": 0},\\n            {\\\"year\\\": 2020, \\\"sector\\\": \\\"Salud\\\", \\\"budget\\\": 210000000, \\\"execution\\\": 200000000, \\\"gender_budget\\\": 0, \\\"gender_execution\\\": 0},\\n            {\\\"year\\\": 2020, \\\"sector\\\": \\\"Educación\\\", \\\"budget\\\": 230000000, \\\"execution\\\": 218000000, \\\"gender_budget\\\": 0, \\\"gender_execution\\\": 0},\\n            {\\\"year\\\": 2020, \\\"sector\\\": \\\"Desarrollo Social\\\", \\\"budget\\\": 170000000, \\\"execution\\\": 162000000, \\\"gender_budget\\\": 1200000, \\\"gender_execution\\\": 0},\\n            {\\\"year\\\": 2020, \\\"sector\\\": \\\"Obras Públicas\\\", \\\"budget\\\": 350000000, \\\"execution\\\": 330000000, \\\"gender_budget\\\": 0, \\\"gender_execution\\\": 0},\\n            {\\\"year\\\": 2020, \\\"sector\\\": \\\"Administración\\\", \\\"budget\\\": 280000000, \\\"execution\\\": 265000000, \\\"gender_budget\\\": 0, \\\"gender_execution\\\": 0},\\n            {\\\"year\\\": 2021, \\\"sector\\\": \\\"Salud\\\", \\\"budget\\\": 220000000, \\\"execution\\\": 210000000, \\\"gender_budget\\\": 0, \\\"gender_execution\\\": 0},\\n            {\\\"year\\\": 2021, \\\"sector\\\": \\\"Educación\\\", \\\"budget\\\": 240000000, \\\"execution\\\": 228000000, \\\"gender_budget\\\": 0, \\\"gender_execution\\\": 0},\\n            {\\\"year\\\": 2021, \\\"sector\\\": \\\"Desarrollo Social\\\", \\\"budget\\\": 180000000, \\\"execution\\\": 171000000, \\\"gender_budget\\\": 1500000, \\\"gender_execution\\\": 0},\\n            {\\\"year\\\": 2021, \\\"sector\\\": \\\"Obras Públicas\\\", \\\"budget\\\": 380000000, \\\"execution\\\": 360000000, \\\"gender_budget\\\": 0, \\\"gender_execution\\\": 0},\\n            {\\\"year\\\": 2021, \\\"sector\\\": \\\"Administración\\\", \\\"budget\\\": 300000000, \\\"execution\\\": 285000000, \\\"gender_budget\\\": 0, \\\"gender_execution\\\": 0}\\n        ])\"
   ]
  },
  {
   \"cell_type\": \"code\",
   \"execution_count\": null,
   \"metadata\": {},
   \"outputs\": [],
   \"source\": [
    \"# Show the structure of the data\\nprint(\\\"Data columns:\\\", budget_data.columns.tolist())\\nprint(\\\"\\\\nFirst 10 rows:\\\")\\nprint(budget_data.head(10))\"
   ]
  },
  {
   \"cell_type\": \"code\",
   \"execution_count\": null,
   \"metadata\": {},
   \"outputs\": [],
   \"source\": [
    \"# Calculate gender budget percentage\\nbudget_data['gender_budget_pct'] = (budget_data['gender_budget'] / budget_data['budget']) * 100\\nbudget_data['gender_execution_pct'] = (budget_data['gender_execution'] / budget_data['execution']) * 100\\n\\n# Fill NaN with 0 if division by zero occurred\\nbudget_data['gender_budget_pct'] = budget_data['gender_budget_pct'].fillna(0)\\nbudget_data['gender_execution_pct'] = budget_data['gender_execution_pct'].fillna(0)\\n\\nprint(\\\"Data with percentages:\\\")\\nprint(budget_data[['year', 'sector', 'budget', 'execution', 'gender_budget', 'gender_execution', 'gender_budget_pct', 'gender_execution_pct']].head(10))\"
   ]
  },
  {
   \"cell_type\": \"code\",
   \"execution_count\": null,
   \"metadata\": {},
   \"outputs\": [],
   \"source\": [
    \"# Chart: Gender budget vs execution by year\\ngender_summary = budget_data.groupby('year').agg({\\n    'gender_budget': 'sum',\\n    'gender_execution': 'sum',\\n    'budget': 'sum',\\n    'execution': 'sum'\\n}).reset_index()\\n\\ngender_summary['gender_budget_pct'] = (gender_summary['gender_budget'] / gender_summary['budget']) * 100\\ngender_summary['gender_execution_pct'] = (gender_summary['gender_execution'] / gender_summary['execution']) * 100\\n\\nfig = go.Figure()\\n\\n# Add bars for gender budget and execution\\nfig.add_trace(go.Bar(x=gender_summary['year'], y=gender_summary['gender_budget'],\\n                     name='Presupuesto de Género', marker_color='lightblue'))\\n\\nfig.add_trace(go.Bar(x=gender_summary['year'], y=gender_summary['gender_execution'],\\n                     name='Ejecución de Género', marker_color='pink'))\\n\\nfig.update_layout(\\n    title=\\\"Gasto con Perspectiva de Género por Año\\\",\\n    xaxis_title=\\\"Año\\\",\\n    yaxis_title=\\\"Monto (ARS)\\\",\\n    barmode='group'\\n)\\n\\nfig.show()\\nfig.write_html(\\\"../public/charts/gender_spending_by_year.html\\\")\"
   ]
  },
  {
   \"cell_type\": \"code\",
   \"execution_count\": null,
   \"metadata\": {},
   \"outputs\": [],
   \"source\": [
    \"# Chart: Gender budget percentage by year\\nfig = go.Figure()\\n\\nfig.add_trace(go.Scatter(x=gender_summary['year'], y=gender_summary['gender_budget_pct'],\\n                         mode='lines+markers', name='Presupuesto %', line=dict(color='blue', width=4)))\\n\\nfig.add_trace(go.Scatter(x=gender_summary['year'], y=gender_summary['gender_execution_pct'],\\n                         mode='lines+markers', name='Ejecución %', line=dict(color='red', width=4)))\\n\\nfig.add_hline(y=0, line_dash=\\\"dash\\\", line_color=\\\"gray\\\")\\n\\nfig.update_layout(\\n    title=\\\"Porcentaje de Gasto con Perspectiva de Género\\\",\\n    xaxis_title=\\\"Año\\\",\\n    yaxis_title=\\\"% del Gasto Total\\\",\\n    showlegend=True\\n)\\n\\nfig.show()\\nfig.write_html(\\\"../public/charts/gender_spending_percentage.html\\\")\"
   ]
  },
  {
   \"cell_type\": \"code\",
   \"execution_count\": null,
   \"metadata\": {},
   \"outputs\": [],
   \"source\": [
    \"# Chart: Gender budget by sector\\ngender_by_sector = budget_data.groupby('sector').agg({\\n    'gender_budget': 'sum',\\n    'gender_execution': 'sum',\\n    'budget': 'sum',\\n    'execution': 'sum'\\n}).reset_index()\\n\\ngender_by_sector['gender_budget_pct'] = (gender_by_sector['gender_budget'] / gender_by_sector['budget']) * 100\\ngender_by_sector['gender_execution_pct'] = (gender_by_sector['gender_execution'] / gender_by_sector['execution']) * 100\\n\\nfig = go.Figure()\\n\\nfig.add_trace(go.Bar(x=gender_by_sector['sector'], y=gender_by_sector['gender_budget_pct'],\\n                     name='Presupuesto %', marker_color='lightblue'))\\n\\nfig.add_trace(go.Bar(x=gender_by_sector['sector'], y=gender_by_sector['gender_execution_pct'],\\n                     name='Ejecución %', marker_color='pink'))\\n\\nfig.update_layout(\\n    title=\\\"Porcentaje de Gasto con Perspectiva de Género por Sector\\\",\\n    xaxis_title=\\\"Sector\\\",\\n    yaxis_title=\\\"% del Gasto del Sector\\\",\\n    barmode='group'\\n)\\n\\nfig.show()\\nfig.write_html(\\\"../public/charts/gender_spending_by_sector.html\\\")\"
   ]
  },
  {
   \"cell_type\": \"code\",
   \"execution_count\": null,
   \"metadata\": {},
   \"outputs\": [],
   \"source\": [
    \"# Donut chart for gender spending distribution\\ntotal_budget = gender_summary['budget'].sum()\\ntotal_execution = gender_summary['execution'].sum()\\ntotal_gender_budget = gender_summary['gender_budget'].sum()\\ntotal_gender_execution = gender_summary['gender_execution'].sum()\\n\\n# Calculate non-gender spending\\nnon_gender_budget = total_budget - total_gender_budget\\nnon_gender_execution = total_execution - total_gender_execution\\n\\nfig = make_subplots(\\n    rows=1, cols=2,\\n    subplot_titles=('Presupuesto', 'Ejecución'),\\n    specs=[[{\\\"type\\\": \\\"domain\\\"}, {\\\"type\\\": \\\"domain\\\"}]]\\n)\\n\\nfig.add_trace(\\n    go.Pie(labels=['Con Perspectiva de Género', 'Sin Perspectiva de Género'], \\n           values=[total_gender_budget, non_gender_budget], \\n           name=\\\"Presupuesto\\\"),\\n    1, 1\\n)\\n\\nfig.add_trace(\\n    go.Pie(labels=['Con Perspectiva de Género', 'Sin Perspectiva de Género'], \\n           values=[total_gender_execution, non_gender_execution], \\n           name=\\\"Ejecución\\\"),\\n    1, 2\\n)\\n\\nfig.update_layout(\\n    title_text=\\\"Distribución del Gasto: Con vs Sin Perspectiva de Género\\\",\\n    # Add annotations for small percentages\\n    annotations=[\\n        dict(text=f'{(total_gender_budget/total_budget)*100:.3f}%', x=0.2, y=0.5, font_size=15, showarrow=False),\\n        dict(text=f'{(total_gender_execution/total_execution)*100:.3f}%', x=0.8, y=0.5, font_size=15, showarrow=False)\\n    ]\\n)\\n\\nfig.show()\\nfig.write_html(\\\"../public/charts/gender_spending_distribution.html\\\")\"
   ]
  },
  {
   \"cell_type\": \"code\",
   \"execution_count\": null,
   \"metadata\": {},
   \"outputs\": [],
   \"source\": [
    \"# Check if there are years where gender spending was promised but not executed\\nbudget_data['unexecuted_gender'] = budget_data['gender_budget'] - budget_data['gender_execution']\\nunexecuted_gender = budget_data[budget_data['unexecuted_gender'] > 0]\\n\\nprint(\\\"Years with gender budget allocated but not executed:\\\")\\nprint(unexecuted_gender[['year', 'sector', 'gender_budget', 'gender_execution', 'unexecuted_gender']])\\n\\n# Calculate total unexecuted gender spending\\ntotal_unexecuted = unexecuted_gender['unexecuted_gender'].sum()\\ntotal_gender_promised = budget_data['gender_budget'].sum()\\nunexecuted_percentage = (total_unexecuted / total_gender_promised) * 100 if total_gender_promised > 0 else 0\\n\\nprint(f\\\"\\\\nTotal gender budget promised: ${total_gender_promised:,.2f}\\\")\\nprint(f\\\"Total unexecuted gender spending: ${total_unexecuted:,.2f} ({unexecuted_percentage:.2f}% of promised)\\\")\"
   ]
  },
  {
   \"cell_type\": \"code\",
   \"execution_count\": null,
   \"metadata\": {},
   \"outputs\": [],
   \"source\": [
    \"# Create timeline of gender budget vs execution\\nfig = go.Figure()\\n\\n# Create a combined year-quarter field for proper sorting\\nbudget_data['year_str'] = budget_data['year'].astype(str)\\n\\nfig.add_trace(go.Scatter(x=budget_data['year_str'], y=budget_data['gender_budget'],\\n                         mode='lines+markers', name='Presupuesto de Género', line=dict(color='blue', width=3)))\\n\\nfig.add_trace(go.Scatter(x=budget_data['year_str'], y=budget_data['gender_execution'],\\n                         mode='lines+markers', name='Ejecución de Género', line=dict(color='red', width=3)))\\n\\nfig.update_layout(\\n    title=\\\"Línea de Tiempo: Presupuesto vs Ejecución con Perspectiva de Género\\\",\\n    xaxis_title=\\\"Año\\\",\\n    yaxis_title=\\\"Monto (ARS)\\\",\\n    showlegend=True\\n)\\n\\n# Add annotation for zero execution\\nif (budget_data['gender_execution'] == 0).all():\\n    fig.add_annotation(x=budget_data['year_str'].iloc[len(budget_data)//2], y=budget_data['gender_budget'].max()/2, \\n                       text=\\\"⚠️ EJECUCIÓN CERO\\\", showarrow=True, arrowhead=1, bgcolor=\\\"red\\\", font=dict(color=\\\"white\\\"))\\n\\nfig.show()\\nfig.write_html(\\\"../public/charts/gender_spending_timeline.html\\\")\"
   ]
  },
  {
   \"cell_type\": \"code\",
   \"execution_count\": null,
   \"metadata\": {},
   \"outputs\": [],
   \"source\": [
    \"# Narrative and analysis\\nprint(\\\"\\\\n🔍 Gender Perspective Analysis Findings:\\\")\\n\\nif total_unexecuted > 0:\\n    print(f\\\"🚨 RED FLAG: ${total_unexecuted:,.2f} in gender budget was allocated but not executed ({unexecuted_percentage:.2f}% of total gender budget)\\\")\\nelse:\\n    print(\\\"✅ All allocated gender budget was executed\\\")\\n\\n# Check if gender spending is consistently zero\\nif total_gender_execution == 0:\\n    print(\\\"🚨 RED FLAG: No actual spending with gender perspective was executed (despite budget allocation)\\\")\\n    \\nif total_gender_budget == 0:\\n    print(\\\"⚠️  No budget allocated with gender perspective\\\")\\n\\n# Narrative text\\nprint(\\\"\\\\n📰 Narrative:\\\")\\nif total_gender_execution == 0:\\n    print(\\\"'El municipio publica ‘presupuesto con perspectiva de género’… pero en los informes de ejecución, no aparece un solo peso gastado. ¿Es política real o solo para el informe?' \\\"\\nelse:\\n    print(\\\"'Seguimiento de presupuesto con perspectiva de género: Análisis de cumplimiento y efectividad.'\\\")\\n\\n# Additional analysis\\nprint(f\\\"\\\\n📊 Additional Metrics:\\\")\\nprint(f\\\"Total general budget: ${total_budget:,.2f}\\\")\\nprint(f\\\"Total gender budget allocated: ${total_gender_budget:,.2f}\\\")\\nprint(f\\\"Percentage of total budget: {(total_gender_budget/total_budget)*100:.3f}%\\\")\\nprint(f\\\"Total gender budget executed: ${total_gender_execution:,.2f}\\\")\\nprint(f\\\"Execution rate: {(total_gender_execution/total_gender_budget)*100 if total_gender_budget > 0 else 0:.2f}%\\\")\"
   ]
  }
 ],
 \"metadata\": {
  \"kernelspec\": {
   \"display_name\": \"Python 3\",
   \"language\": \"python\",
   \"name\": \"python3\"
  },
  \"language_info\": {
   \"codemirror_mode\": {
    \"name\": \"ipython\",
    \"version\": 3
   },
   \"file_extension\": \".py\",
   \"mimetype\": \"text/x-python\",
   \"name\": \"python\",
   \"nbconvert_exporter\": \"python\",
   \"pygments_lexer\": \"ipython3\",
   \"version\": \"3.9.0\"
  }
 },
 \"nbformat\": 4,
 \"nbformat_minor\": 4
}