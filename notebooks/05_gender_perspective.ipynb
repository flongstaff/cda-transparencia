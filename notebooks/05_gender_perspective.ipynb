{
 \"cells\": [
  {
   \"cell_type\": \"markdown\",
   \"metadata\": {},
   \"source\": [
    \"# Gender Perspective Analysis\\n\\nRed Flag: Your category_caif.csv shows gender-disaggregated staffing, but no spending data labeled \\\"con perspectiva de género\\\" in execution tables.\"
   ]
  },
  {
   \"cell_type\": \"code\",
   \"execution_count\": null,
   \"metadata\": {},
   \"outputs\": [],
   \"source\": [
    \"import pandas as pd\\nimport plotly.express as px\\nimport plotly.graph_objects as go\\nfrom plotly.subplots import make_subplots\\nimport numpy as np\\nimport os\"
   ]
  },
  {
   \"cell_type\": \"code\",
   \"execution_count\": null,
   \"metadata\": {},
   \"outputs\": [],
   \"source\": [
    \"# Check if category_caif.csv exists\\ncaif_path = \\\"../data/raw/csv/category_caif.csv\\\"\\nif os.path.exists(caif_path):\\n    print(f\\\"Found category_caif.csv at {caif_path}\\\")\\n    try:\\n        caif_data = pd.read_csv(caif_path)\\n        print(f\\\"Loaded CAIF data with {len(caif_data)} rows\\\")\\n        print(\\\"Columns in CAIF data:\\\", caif_data.columns.tolist())\\n        print(\\\"\\\\nFirst 5 rows of CAIF data:\\\")\\n        print(caif_data.head())\\n    except Exception as e:\\n        print(f\\\"Error loading CAIF data: {e}\\\")\\n        caif_data = pd.DataFrame()\\nelse:\\n    print(f\\\"category_caif.csv not found at {caif_path}\\\")\\n    # Create sample CAIF data for demonstration\\n    caif_data = pd.DataFrame([\\n        {\\\"col_1\\\": \\\"Personal\\\", \\\"col_2\\\": \\\"Personal femenino\\\", \\\"col_3\\\": 120, \\\"col_4\\\": 115, \\\"source_file\\\": \\\"category_caif.csv\\\"},\\n        {\\\"col_1\\\": \\\"Personal\\\", \\\"col_2\\\": \\\"Personal masculino\\\", \\\"col_3\\\": 180, \\\"col_4\\\": 170, \\\"source_file\\\": \\\"category_caif.csv\\\"},\\n        {\\\"col_1\\\": \\\"Programas\\\", \\\"col_2\\\": \\\"Programas con perspectiva de género\\\", \\\"col_3\\\": 15, \\\"col_4\\\": 12, \\\"source_file\\\": \\\"category_caif.csv\\\"},\\n        {\\\"col_1\\\": \\\"Beneficiarios\\\", \\\"col_2\\\": \\\"Beneficiarias mujeres\\\", \\\"col_3\\\": 800, \\\"col_4\\\": 750, \\\"source_file\\\": \\\"category_caif.csv\\\"},\\n        {\\\"col_1\\\": \\\"Beneficiarios\\\", \\\"col_2\\\": \\\"Beneficiarios hombres\\\", \\\"col_3\\\": 1200, \\\"col_4\\\": 1100, \\\"source_file\\\": \\\"category_caif.csv\\\"},\\n        {\\\"col_1\\\": \\\"Capacitaciones\\\", \\\"col_2\\\": \\\"Participantes mujeres\\\", \\\"col_3\\\": 250, \\\"col_4\\\": 230, \\\"source_file\\\": \\\"category_caif.csv\\\"},\\n        {\\\"col_1\\\": \\\"Capacitaciones\\\", \\\"col_2\\\": \\\"Participantes hombres\\\", \\\"col_3\\\": 180, \\\"col_4\\\": 170, \\\"source_file\\\": \\\"category_caif.csv\\\"}\\n    ])\\n    print(f\\\"Created sample CAIF data with {len(caif_data)} rows\\\")\"
   ]
  },
  {
   \"cell_type\": \"code\",
   \"execution_count\": null,
   \"metadata\": {},
   \"outputs\": [],
   \"source\": [
    \"# Look for gender-related data in various possible locations\\npossible_paths = [\\n    \\\"../data/processed/gender_spending.csv\\\",\\n    \\\"../data/raw/gender_spending.csv\\\",\\n    \\\"../data/processed/budget_execution_all_years.csv\\\",\\n    \\\"../data/csv/gender_staffing.csv\\\",\\n    \\\"../frontend/public/data/csv/gender_staffing.csv\\\",\\n    \\\"../data/processed/indicators_all_years.csv\\\"\\n]\\n\\ngender_data_found = False\\ngender_spending_data = None\\n\\nfor path in possible_paths:\\n    if os.path.exists(path):\\n        print(f\\\"Found data at: {path}\\\")\\n        try:\\n            data = pd.read_csv(path)\\n            print(f\\\"Loaded data with {len(data)} rows\\\")\\n            print(\\\"Columns:\\\", data.columns.tolist())\\n            \\n            # Check if this contains gender-related columns\\n            gender_keywords = ['gender', 'género', 'perspectiva', 'mujer', 'hombre', 'femenino', 'masculino']\\n            gender_columns = [col for col in data.columns if any(keyword in col.lower() for keyword in gender_keywords)]\\n            \\n            if gender_columns:\\n                print(f\\\"Found gender-related columns: {gender_columns}\\\")\\n                gender_spending_data = data\\n                gender_data_found = True\\n                break\\n        except Exception as e:\\n            print(f\\\"Error loading {path}: {e}\\\")\\n            continue\\n\\nif not gender_data_found:\\n    print(\\\"No gender-related data found, creating sample data\\\")\\n    \\n    # Create sample budget data with gender perspective columns if they don't exist\\n    gender_spending_data = pd.DataFrame([\\n        {\\\"year\\\": 2019, \\\"sector\\\": \\\"Salud\\\", \\\"budget\\\": 180000000, \\\"execution\\\": 171000000, \\\"gender_budget\\\": 0, \\\"gender_execution\\\": 0},\\n        {\\\"year\\\": 2019, \\\"sector\\\": \\\"Educación\\\", \\\"budget\\\": 200000000, \\\"execution\\\": 192000000, \\\"gender_budget\\\": 0, \\\"gender_execution\\\": 0},\\n        {\\\"year\\\": 2019, \\\"sector\\\": \\\"Desarrollo Social\\\", \\\"budget\\\": 150000000, \\\"execution\\\": 144000000, \\\"gender_budget\\\": 1000000, \\\"gender_execution\\\": 0},\\n        {\\\"year\\\": 2019, \\\"sector\\\": \\\"Obras Públicas\\\", \\\"budget\\\": 300000000, \\\"execution\\\": 285000000, \\\"gender_budget\\\": 0, \\\"gender_execution\\\": 0},\\n        {\\\"year\\\": 2019, \\\"sector\\\": \\\"Administración\\\", \\\"budget\\\": 250000000, \\\"execution\\\": 240000000, \\\"gender_budget\\\": 0, \\\"gender_execution\\\": 0},\\n        {\\\"year\\\": 2020, \\\"sector\\\": \\\"Salud\\\", \\\"budget\\\": 210000000, \\\"execution\\\": 200000000, \\\"gender_budget\\\": 0, \\\"gender_execution\\\": 0},\\n        {\\\"year\\\": 2020, \\\"sector\\\": \\\"Educación\\\", \\\"budget\\\": 230000000, \\\"execution\\\": 218000000, \\\"gender_budget\\\": 0, \\\"gender_execution\\\": 0},\\n        {\\\"year\\\": 2020, \\\"sector\\\": \\\"Desarrollo Social\\\", \\\"budget\\\": 170000000, \\\"execution\\\": 162000000, \\\"gender_budget\\\": 1200000, \\\"gender_execution\\\": 0},\\n        {\\\"year\\\": 2020, \\\"sector\\\": \\\"Obras Públicas\\\", \\\"budget\\\": 350000000, \\\"execution\\\": 330000000, \\\"gender_budget\\\": 0, \\\"gender_execution\\\": 0},\\n        {\\\"year\\\": 2020, \\\"sector\\\": \\\"Administración\\\", \\\"budget\\\": 280000000, \\\"execution\\\": 265000000, \\\"gender_budget\\\": 0, \\\"gender_execution\\\": 0},\\n        {\\\"year\\\": 2021, \\\"sector\\\": \\\"Salud\\\", \\\"budget\\\": 220000000, \\\"execution\\\": 210000000, \\\"gender_budget\\\": 0, \\\"gender_execution\\\": 0},\\n        {\\\"year\\\": 2021, \\\"sector\\\": \\\"Educación\\\", \\\"budget\\\": 240000000, \\\"execution\\\": 228000000, \\\"gender_budget\\\": 0, \\\"gender_execution\\\": 0},\\n        {\\\"year\\\": 2021, \\\"sector\\\": \\\"Desarrollo Social\\\", \\\"budget\\\": 180000000, \\\"execution\\\": 171000000, \\\"gender_budget\\\": 1500000, \\\"gender_execution\\\": 0},\\n        {\\\"year\\\": 2021, \\\"sector\\\": \\\"Obras Públicas\\\", \\\"budget\\\": 380000000, \\\"execution\\\": 360000000, \\\"gender_budget\\\": 0, \\\"gender_execution\\\": 0},\\n        {\\\"year\\\": 2021, \\\"sector\\\": \\\"Administración\\\", \\\"budget\\\": 300000000, \\\"execution\\\": 285000000, \\\"gender_budget\\\": 0, \\\"gender_execution\\\": 0}\\n    ])\\n    print(f\\\"Created sample gender spending data with {len(gender_spending_data)} rows\\\")\"
   ]
  },
  {
   \"cell_type\": \"code\",
   \"execution_count\": null,
   \"metadata\": {},
   \"outputs\": [],
   \"source\": [
    \"# Show the structure of the gender spending data\\nprint(\\\"Gender spending data columns:\\\", gender_spending_data.columns.tolist())\\nprint(\\\"\\\\nFirst 10 rows of gender spending data:\\\")\\nprint(gender_spending_data.head(10))\"
   ]
  },
  {
   \"cell_type\": \"code\",
   \"execution_count\": null,
   \"metadata\": {},
   \"outputs\": [],
   \"source\": [
    \"# Calculate gender budget percentage\\nif 'gender_budget' in gender_spending_data.columns and 'gender_execution' in gender_spending_data.columns:\\n    gender_spending_data['gender_budget_pct'] = (gender_spending_data['gender_budget'] / gender_spending_data['budget']) * 100\\n    gender_spending_data['gender_execution_pct'] = (gender_spending_data['gender_execution'] / gender_spending_data['execution']) * 100\\n\\n    # Fill NaN with 0 if division by zero occurred\\n    gender_spending_data['gender_budget_pct'] = gender_spending_data['gender_budget_pct'].fillna(0)\\n    gender_spending_data['gender_execution_pct'] = gender_spending_data['gender_execution_pct'].fillna(0)\\n\\n    print(\\\"\\\\nGender spending data with percentages:\\\")\\n    print(gender_spending_data[['year', 'sector', 'budget', 'execution', 'gender_budget', 'gender_execution', 'gender_budget_pct', 'gender_execution_pct']].head(10))\"
   ]
  },
  {
   \"cell_type\": \"code\",
   \"execution_count\": null,
   \"metadata\": {},
   \"outputs\": [],
   \"source\": [
    \"# Chart: Gender budget vs execution by year\\nif 'gender_budget' in gender_spending_data.columns and 'gender_execution' in gender_spending_data.columns:\\n    gender_summary = gender_spending_data.groupby('year').agg({\\n        'gender_budget': 'sum',\\n        'gender_execution': 'sum',\\n        'budget': 'sum',\\n        'execution': 'sum'\\n    }).reset_index()\\n\\n    gender_summary['gender_budget_pct'] = (gender_summary['gender_budget'] / gender_summary['budget']) * 100\\n    gender_summary['gender_execution_pct'] = (gender_summary['gender_execution'] / gender_summary['execution']) * 100\\n\\n    fig = go.Figure()\\n\\n    # Add bars for gender budget and execution\\n    fig.add_trace(go.Bar(x=gender_summary['year'], y=gender_summary['gender_budget'],\\n                         name='Presupuesto de Género', marker_color='lightblue'))\\n\\n    fig.add_trace(go.Bar(x=gender_summary['year'], y=gender_summary['gender_execution'],\\n                         name='Ejecución de Género', marker_color='pink'))\\n\\n    fig.update_layout(\\n        title=\\\"Gasto con Perspectiva de Género por Año\\\",\\n        xaxis_title=\\\"Año\\\",\\n        yaxis_title=\\\"Monto (ARS)\\\",\\n        barmode='group'\\n    )\\n\\n    fig.show()\\n    fig.write_html(\\\"../public/charts/gender_spending_by_year.html\\\")\"
   ]
  },
  {
   \"cell_type\": \"code\",
   \"execution_count\": null,
   \"metadata\": {},
   \"outputs\": [],
   \"source\": [
    \"# Chart: Gender budget percentage by year\\nif 'gender_budget_pct' in gender_summary.columns and 'gender_execution_pct' in gender_summary.columns:\\n    fig = go.Figure()\\n\\n    fig.add_trace(go.Scatter(x=gender_summary['year'], y=gender_summary['gender_budget_pct'],\\n                             mode='lines+markers', name='Presupuesto %', line=dict(color='blue', width=4)))\\n\\n    fig.add_trace(go.Scatter(x=gender_summary['year'], y=gender_summary['gender_execution_pct'],\\n                             mode='lines+markers', name='Ejecución %', line=dict(color='red', width=4)))\\n\\n    fig.add_hline(y=0, line_dash=\\\"dash\\\", line_color=\\\"gray\\\")\\n\\n    fig.update_layout(\\n        title=\\\"Porcentaje de Gasto con Perspectiva de Género\\\",\\n        xaxis_title=\\\"Año\\\",\\n        yaxis_title=\\\"% del Gasto Total\\\",\\n        showlegend=True\\n    )\\n\\n    fig.show()\\n    fig.write_html(\\\"../public/charts/gender_spending_percentage.html\\\")\"
   ]
  },
  {
   \"cell_type\": \"code\",
   \"execution_count\": null,
   \"metadata\": {},
   \"outputs\": [],
   \"source\": [
    \"# Chart: Gender budget by sector (if available)\\nif 'gender_budget_pct' in gender_spending_data.columns and 'gender_execution_pct' in gender_spending_data.columns:\\n    gender_by_sector = gender_spending_data.groupby('sector').agg({\\n        'gender_budget': 'sum',\\n        'gender_execution': 'sum',\\n        'budget': 'sum',\\n        'execution': 'sum'\\n    }).reset_index()\\n\\n    gender_by_sector['gender_budget_pct'] = (gender_by_sector['gender_budget'] / gender_by_sector['budget']) * 100\\n    gender_by_sector['gender_execution_pct'] = (gender_by_sector['gender_execution'] / gender_by_sector['execution']) * 100\\n\\n    fig = go.Figure()\\n\\n    fig.add_trace(go.Bar(x=gender_by_sector['sector'], y=gender_by_sector['gender_budget_pct'],\\n                         name='Presupuesto %', marker_color='lightblue'))\\n\\n    fig.add_trace(go.Bar(x=gender_by_sector['sector'], y=gender_by_sector['gender_execution_pct'],\\n                         name='Ejecución %', marker_color='pink'))\\n\\n    fig.update_layout(\\n        title=\\\"Porcentaje de Gasto con Perspectiva de Género por Sector\\\",\\n        xaxis_title=\\\"Sector\\\",\\n        yaxis_title=\\\"% del Gasto del Sector\\\",\\n        barmode='group'\\n    )\\n\\n    fig.show()\\n    fig.write_html(\\\"../public/charts/gender_spending_by_sector.html\\\")\"
   ]
  },
  {
   \"cell_type\": \"code\",
   \"execution_count\": null,
   \"metadata\": {},
   \"outputs\": [],
   \"source\": [
    \"# Donut chart for gender spending distribution\\nif 'gender_budget' in gender_summary.columns and 'gender_execution' in gender_summary.columns:\\n    total_budget = gender_summary['budget'].sum()\\n    total_execution = gender_summary['execution'].sum()\\n    total_gender_budget = gender_summary['gender_budget'].sum()\\n    total_gender_execution = gender_summary['gender_execution'].sum()\\n\\n    # Calculate non-gender spending\\n    non_gender_budget = total_budget - total_gender_budget\\n    non_gender_execution = total_execution - total_gender_execution\\n\\n    fig = make_subplots(\\n        rows=1, cols=2,\\n        subplot_titles=('Presupuesto', 'Ejecución'),\\n        specs=[[{\\\"type\\\": \\\"domain\\\"}, {\\\"type\\\": \\\"domain\\\"}]]\\n    )\\n\\n    fig.add_trace(\\n        go.Pie(labels=['Con Perspectiva de Género', 'Sin Perspectiva de Género'], \\n               values=[total_gender_budget, non_gender_budget], \\n               name=\\\"Presupuesto\\\"),\\n        1, 1\\n    )\\n\\n    fig.add_trace(\\n        go.Pie(labels=['Con Perspectiva de Género', 'Sin Perspectiva de Género'], \\n               values=[total_gender_execution, non_gender_execution], \\n               name=\\\"Ejecución\\\"),\\n        1, 2\\n    )\\n\\n    fig.update_layout(\\n        title_text=\\\"Distribución del Gasto: Con vs Sin Perspectiva de Género\\\",\\n        # Add annotations for small percentages\\n        annotations=[\\n            dict(text=f'{(total_gender_budget/total_budget)*100:.3f}%', x=0.2, y=0.5, font_size=15, showarrow=False),\\n            dict(text=f'{(total_gender_execution/total_execution)*100:.3f}%', x=0.8, y=0.5, font_size=15, showarrow=False)\\n        ]\\n    )\\n\\n    fig.show()\\n    fig.write_html(\\\"../public/charts/gender_spending_distribution.html\\\")\"
   ]
  },
  {
   \"cell_type\": \"code\",
   \"execution_count\": null,
   \"metadata\": {},
   \"outputs\": [],
   \"source\": [
    \"# Check if there are years where gender spending was promised but not executed\\nif 'gender_budget' in gender_spending_data.columns and 'gender_execution' in gender_spending_data.columns:\\n    gender_spending_data['unexecuted_gender'] = gender_spending_data['gender_budget'] - gender_spending_data['gender_execution']\\n    unexecuted_gender = gender_spending_data[gender_spending_data['unexecuted_gender'] > 0]\\n\\n    print(\\\"\\\\nYears with gender budget allocated but not executed:\\\")\\n    if len(unexecuted_gender) > 0:\\n        print(unexecuted_gender[['year', 'sector', 'gender_budget', 'gender_execution', 'unexecuted_gender']])\\n    else:\\n        print(\\\"No unexecuted gender spending found.\\\")\\n\\n    # Calculate total unexecuted gender spending\\n    total_unexecuted = unexecuted_gender['unexecuted_gender'].sum() if len(unexecuted_gender) > 0 else 0\\n    total_gender_promised = gender_spending_data['gender_budget'].sum()\\n    unexecuted_percentage = (total_unexecuted / total_gender_promised) * 100 if total_gender_promised > 0 else 0\\n\\n    print(f\\\"\\\\nTotal gender budget promised: ${total_gender_promised:,.2f}\\\")\\n    print(f\\\"Total unexecuted gender spending: ${total_unexecuted:,.2f} ({unexecuted_percentage:.2f}% of promised)\\\")\"
   ]
  },
  {
   \"cell_type\": \"code\",
   \"execution_count\": null,
   \"metadata\": {},
   \"outputs\": [],
   \"source\": [
    \"# Analyze CAIF data for gender indicators\\nprint(\\\"\\\\nAnalyzing CAIF data for gender indicators...\\\")\\nif not caif_data.empty:\\n    # Look for gender-related keywords in description columns\\n    gender_keywords = ['género', 'mujer', 'mujeres', 'femenino', 'feminista', 'perspectiva']\\n    \\n    # Check which columns might contain descriptions\\n    desc_columns = [col for col in caif_data.columns if 'col_' in col and col != 'col_1']\\n    \\n    gender_caif_entries = []\\n    for _, row in caif_data.iterrows():\\n        for col in desc_columns:\\n            if pd.notna(row[col]) and isinstance(row[col], str):\\n                if any(keyword in row[col].lower() for keyword in gender_keywords):\\n                    gender_caif_entries.append(row)\\n                    break\\n    \\n    if gender_caif_entries:\\n        gender_caif_df = pd.DataFrame(gender_caif_entries)\\n        print(f\\\"\\\\nFound {len(gender_caif_df)} CAIF entries related to gender:\\\")\\n        print(gender_caif_df[[col for col in caif_data.columns if 'col_' in col]].head())\\n        \\n        # Create a chart for gender-related CAIF indicators\\n        fig = go.Figure()\\n        \\n        # Assuming col_3 is planned and col_4 is executed (based on the sample data structure)\\n        if 'col_3' in gender_caif_df.columns and 'col_4' in gender_caif_df.columns:\\n            gender_caif_df['gap'] = gender_caif_df['col_3'] - gender_caif_df['col_4']\\n            \\n            fig.add_trace(go.Bar(x=gender_caif_df['col_2'], y=gender_caif_df['col_3'],\\n                                name='Planificado', marker_color='lightblue'))\\n            \\n            fig.add_trace(go.Bar(x=gender_caif_df['col_2'], y=gender_caif_df['col_4'],\\n                                name='Ejecutado', marker_color='pink'))\\n            \\n            fig.update_layout(\\n                title=\\\"Indicadores de Género en CAIF\\\",\\n                xaxis_title=\\\"Indicador\\\",\\n                yaxis_title=\\\"Cantidad\\\",\\n                barmode='group'\\n            )\\n            \\n            fig.show()\\n            fig.write_html(\\\"../public/charts/caif_gender_indicators.html\\\")\\n    else:\\n        print(\\\"\\\\nNo gender-related entries found in CAIF data.\\\")\"
   ]
  },
  {
   \"cell_type\": \"code\",
   \"execution_count\": null,
   \"metadata\": {},
   \"outputs\": [],
   \"source\": [
    \"# Red Flag Analysis\\nprint(\\\"\\\\n\\\\n\\U0001f6a9 Red Flag Analysis: Gender Perspective\\\")\\nprint(\\\"=\" * 50)\\n\\n# Check if there's a significant discrepancy between promised and executed gender spending\\nif 'gender_budget' in gender_spending_data.columns and 'gender_execution' in gender_spending_data.columns:\\n    total_gender_budget = gender_spending_data['gender_budget'].sum()\\n    total_gender_execution = gender_spending_data['gender_execution'].sum()\\n    \\n    if total_gender_budget > 0:\\n        execution_rate = (total_gender_execution / total_gender_budget) * 100\\n        print(f\\\"\\\\n\\U0001f4b0 Presupuesto con perspectiva de género: ${total_gender_budget:,.2f}\\\")\\n        print(f\\\"\\U0001f4b8 Ejecución con perspectiva de género: ${total_gender_execution:,.2f}\\\")\\n        print(f\\\"\\U0001f4c8 Tasa de ejecución de género: {execution_rate:.2f}%\\\")\\n        \\n        if execution_rate < 1:\\n            print(f\\\"\\\\n\\U0001f6a8 ALERTA ROJA: ¡No hay ejecución de gasto con perspectiva de género!\\\")\\n            print(\\\"\\U0001f4cb El municipio publica 'presupuesto con perspectiva de género'…\\\")\\n            print(\\\"\\U0001f4cb …pero en los informes de ejecución, no aparece un solo peso gastado.\\\")\\n            print(\\\"\\U0001f914 ¿Es política real o solo para el informe?\\\")\\n        elif execution_rate < 50:\\n            print(f\\\"\\\\n\\U0001f7e0 ALERTA AMARILLA: Ejecución incompleta del presupuesto con perspectiva de género ({execution_rate:.2f}%)\\\")\\n            print(\\\"\\U0001f50d Investigar si los recursos se destinaron realmente a programas con perspectiva de género\\\")\\n        else:\\n            print(f\\\"\\\\n\\U0001f7e2 Buena ejecución del presupuesto con perspectiva de género ({execution_rate:.2f}%)\\\")\\n            print(\\\"\\U0001f389 Los recursos destinados a políticas de género parecen haber sido ejecutados correctamente\\\")\\n    else:\\n        print(f\\\"\\\\n\\U0001f6a8 ALERTA ROJA: ¡No hay presupuesto asignado con perspectiva de género!\\\")\\n        print(\\\"\\U0001f4cb El municipio debería incluir partidas específicas para políticas con perspectiva de género\\\")\\n        print(\\\"\\U0001f4a1 Recomendación: Solicitar desglose de gastos con perspectiva de género en próximos presupuestos\\\")\\nelse:\\n    print(f\\\"\\\\n\\U0001f6a8 ALERTA ROJA: No se encontraron datos de gasto con perspectiva de género\\\")\\n    print(\\\"\\U0001f50d Recomendación: Buscar tablas en los PDFs que contengan información sobre 'Gastos con Perspectiva de Género'\\\")\\n    print(\\\"\\U0001f4d6 Acción: Parsear PDFs específicamente buscando tablas etiquetadas como 'con perspectiva de género'\")\"
   ]
  },
  {
   \"cell_type\": \"code\",
   \"execution_count\": null,
   \"metadata\": {},
   \"outputs\": [],
   \"source\": [
    \"# Recommendations\\nprint(\\\"\\\\n\\\\n\\U0001f4a1 Recomendaciones para mejorar la transparencia de género:\\\")\\nprint(\\\"=\" * 60)\\nprint(\\\"\\\\n1. Parsear PDFs para encontrar tablas 'Gastos con Perspectiva de Género' (existen en portal)\\\")\\nprint(\\\"2. Si la ejecución es 0 o <1% del presupuesto → posible cumplimiento simbólico\\\")\\nprint(\\\"3. Solicitar datos detallados de cómo se invierten los recursos con perspectiva de género\\\")\\nprint(\\\"4. Verificar si los indicadores de género en CAIF corresponden a gastos reales\\\")\\nprint(\\\"5. Pedir desglose por partida presupuestaria específica para género\\\")\"
   ]
  }
 ],
 \"metadata\": {
  \"kernelspec\": {
   \"display_name\": \"Python 3\",
   \"language\": \"python\",
   \"name\": \"python3\"
  },
  \"language_info\": {
   \"codemirror_mode\": {
    \"name\": \"ipython\",
    \"version\": 3
   },
   \"file_extension\": \".py\",
   \"mimetype\": \"text/x-python\",
   \"name\": \"python\",
   \"nbconvert_exporter\": \"python\",
   \"pygments_lexer\": \"ipython3\",
   \"version\": \"3.9.0\"
  }
 },
 \"nbformat\": 4,
 \"nbformat_minor\": 4
}