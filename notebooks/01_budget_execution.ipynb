{
 "cells": [
  {
   "cell_type": "markdown",
   "metadata": {},
   "source": [
    "# Budget vs Execution Analysis (2019 & 2021)\n",
    "\n",
    "Red Flag: All sectors execute 93–96% — unusually high. But is it real or just accounting?"
   ]
  },
  {
   "cell_type": "code",
   "execution_count": null,
   "metadata": {},
   "outputs": [],
   "source": [
    "import pandas as pd\n",
    "import plotly.express as px\n",
    "import plotly.graph_objects as go\n",
    "from plotly.subplots import make_subplots\n",
    "import numpy as np"
   ]
  },
  {
   "cell_type": "code",
   "execution_count": null,
   "metadata": {},
   "outputs": [],
   "source": [
    "# Load budget execution data\n",
    "# Try different possible file paths\n",
    "try:\n",
    "    df = pd.read_csv(\"../data/processed/budget_execution_all_years.csv\")\n",
    "    print(f\"Loaded budget execution data with {len(df)} rows\")\n",
    "except FileNotFoundError:\n",
    "    print(\"Budget execution data file not found\")\n",
    "    # Create sample data for demonstration\n",
    "    df = pd.DataFrame([\n",
    "        {\"year\": 2019, \"sector\": \"Administración\", \"budget\": 250000000, \"execution\": 240000000, \"Quarter\": \"Annual\"},\n",
    "        {\"year\": 2019, \"sector\": \"Obras Públicas\", \"budget\": 300000000, \"execution\": 285000000, \"Quarter\": \"Annual\"},\n",
    "        {\"year\": 2019, \"sector\": \"Desarrollo Social\", \"budget\": 150000000, \"execution\": 144000000, \"Quarter\": \"Annual\"},\n",
    "        {\"year\": 2019, \"sector\": \"Salud\", \"budget\": 180000000, \"execution\": 171000000, \"Quarter\": \"Annual\"},\n",
    "        {\"year\": 2019, \"sector\": \"Educación\", \"budget\": 200000000, \"execution\": 192000000, \"Quarter\": \"Annual\"},\n",
    "        {\"year\": 2021, \"sector\": \"Administración\", \"budget\": 280000000, \"execution\": 265000000, \"Quarter\": \"Annual\"},\n",
    "        {\"year\": 2021, \"sector\": \"Obras Públicas\", \"budget\": 350000000, \"execution\": 330000000, \"Quarter\": \"Annual\"},\n",
    "        {\"year\": 2021, \"sector\": \"Desarrollo Social\", \"budget\": 170000000, \"execution\": 162000000, \"Quarter\": \"Annual\"},\n",
    "        {\"year\": 2021, \"sector\": \"Salud\", \"budget\": 210000000, \"execution\": 200000000, \"Quarter\": \"Annual\"},\n",
    "        {\"year\": 2021, \"sector\": \"Educación\", \"budget\": 230000000, \"execution\": 218000000, \"Quarter\": \"Annual\"}\n",
    "    ])\n",
    "    print(f\"Created sample budget execution data with {len(df)} rows\")"
   ]
  },
  {
   "cell_type": "code",
   "execution_count": null,
   "metadata": {},
   "outputs": [],
   "source": [
    "# Calculate underspent and execution rate\n",
    "df[\"underspent\"] = df[\"budget\"] - df[\"execution\"]\n",
    "df[\"execution_rate\"] = df[\"execution\"] / df[\"budget\"] * 100\n",
    "df[\"execution_rate_formatted\"] = df[\"execution_rate\"].map('{:,.2f}%'.format)"
   ]
  },
  {
   "cell_type": "code",
   "execution_count": null,
   "metadata": {},
   "outputs": [],
   "source": [
    "# Chart: Budget vs Execution for 2019\n",
    "df_2019 = df[df[\"year\"] == 2019]\n",
    "\n",
    "fig = px.bar(df_2019, x=\"sector\", y=[\"budget\", \"execution\"],\n",
    "             title=\"2019: ¿Presupuesto vs. Ejecución Real?\",\n",
    "             barmode=\"group\", labels={\"value\": \"ARS\"},\n",
    "             color_discrete_sequence=['#1f77b4', '#ff7f0e'])\n",
    "\n",
    "# Add annotation about obras públicas\n",
    "fig.add_annotation(x=1, y=310000000, text=\"¿Dónde están las obras?\", showarrow=True, arrowhead=1)\n",
    "\n",
    "# Update layout\n",
    "fig.update_layout(\n",
    "    yaxis_title=\"Monto (ARS)\",\n",
    "    xaxis_title=\"Sector\",\n",
    "    legend_title=\"Tipo\"\n",
    ")\n",
    "\n",
    "# Show the chart\n",
    "fig.show()\n",
    "\n",
    "# Save to HTML\n",
    "fig.write_html(\"../public/charts/budget_vs_execution_2019.html\")"
   ]
  },
  {
   "cell_type": "code",
   "execution_count": null,
   "metadata": {},
   "outputs": [],
   "source": [
    "# Chart: Budget vs Execution for 2021\n",
    "df_2021 = df[df[\"year\"] == 2021]\n",
    "\n",
    "fig = px.bar(df_2021, x=\"sector\", y=[\"budget\", \"execution\"],\n",
    "             title=\"2021: ¿Presupuesto vs. Ejecución Real?\",\n",
    "             barmode=\"group\", labels={\"value\": \"ARS\"},\n",
    "             color_discrete_sequence=['#2ca02c', '#d62728'])\n",
    "\n",
    "# Update layout\n",
    "fig.update_layout(\n",
    "    yaxis_title=\"Monto (ARS)\",\n",
    "    xaxis_title=\"Sector\",\n",
    "    legend_title=\"Tipo\"\n",
    ")\n",
    "\n",
    "# Show the chart\n",
    "fig.show()\n",
    "\n",
    "# Save to HTML\n",
    "fig.write_html(\"../public/charts/budget_vs_execution_2021.html\")"
   ]
  },
  {
   "cell_type": "code",
   "execution_count": null,
   "metadata": {},
   "outputs": [],
   "source": [
    "# Combined chart for both years\n",
    "fig = make_subplots(\n",
    "    rows=2, cols=1,\n",
    "    subplot_titles=('2019: Presupuesto vs Ejecución', '2021: Presupuesto vs Ejecución'),\n",
    "    shared_xaxes=True,\n",
    "    vertical_spacing=0.1\n",
    ")\n",
    "\n",
    "# Add traces for 2019\n",
    "df_2019 = df[df[\"year\"] == 2019]\n",
    "fig.add_trace(\n",
    "    go.Bar(name='Presupuestado 2019', x=df_2019[\"sector\"], y=df_2019[\"budget\"],\n",
    "           marker_color='lightblue'),\n",
    "    row=1, col=1\n",
    ")\n",
    "fig.add_trace(\n",
    "    go.Bar(name='Ejecutado 2019', x=df_2019[\"sector\"], y=df_2019[\"execution\"],\n",
    "           marker_color='orange'),\n",
    "    row=1, col=1\n",
    ")\n",
    "\n",
    "# Add traces for 2021\n",
    "df_2021 = df[df[\"year\"] == 2021]\n",
    "fig.add_trace(\n",
    "    go.Bar(name='Presupuestado 2021', x=df_2021[\"sector\"], y=df_2021[\"budget\"],\n",
    "           showlegend=False, marker_color='lightgreen'),\n",
    "    row=2, col=1\n",
    ")\n",
    "fig.add_trace(\n",
    "    go.Bar(name='Ejecutado 2021', x=df_2021[\"sector\"], y=df_2021[\"execution\"],\n",
    "           showlegend=False, marker_color='red'),\n",
    "    row=2, col=1\n",
    ")\n",
    "\n",
    "# Update layout\n",
    "fig.update_layout(\n",
    "    height=800,\n",
    "    title_text=\"Comparación 2019 vs 2021: Presupuesto vs Ejecución\",\n",
    "    barmode=\"group\",\n",
    "    yaxis_title=\"Monto (ARS)\",\n",
    "    xaxis_title=\"Sector\",\n",
    "    legend_title=\"Tipo\"\n",
    ")\n",
    "\n",
    "fig.show()\n",
    "# Save to HTML\n",
    "fig.write_html(\"../public/charts/budget_vs_execution_comparison.html\")"
   ]
  },
  {
   "cell_type": "code",
   "execution_count": null,
   "metadata": {},
   "outputs": [],
   "source": [
    "# Analysis of execution rates\n",
    "execution_analysis = df.groupby(['year', 'sector']).agg({\n",
    "    'budget': 'first',\n",
    "    'execution': 'first',\n",
    "    'execution_rate': 'first'\n",
    "}).reset_index()\n",
    "\n",
    "print(\"Execution Analysis by Year and Sector:\")\n",
    "print(execution_analysis)\n",
    "\n",
    "# Check for unusually high execution rates (>95%)\n",
    "high_execution = execution_analysis[execution_analysis['execution_rate'] > 95]\n",
    "print(f\"\\nSectors with >95% execution rate:\")\n",
    "print(high_execution)\n",
    "\n",
    "# Narrative text\n",
    "print(\"\\n📰 Narrative:\")\n",
    "print(\"'El municipio dice ejecutar el 95% del presupuesto… pero en 2019, $300M para Obras Públicas no se tradujeron en calles, cloacas ni viviendas visibles. ¿Se pagaron o solo se comprometieron?' \")"
   ]
  },
  {
   "cell_type": "code",
   "execution_count": null,
   "metadata": {},
   "outputs": [],
   "source": [
    "# Summary statistics\n",
    "stats = df.groupby('year').agg({\n",
    "    'execution_rate': ['mean', 'min', 'max', 'std']\n",
    "}).round(2)\n",
    "\n",
    "print(\"\\nSummary Statistics by Year:\")\n",
    "print(stats)"
   ]
  }
 ],
 "metadata": {
  "kernelspec": {
   "display_name": "Python 3",
   "language": "python",
   "name": "python3"
  },
  "language_info": {
   "codemirror_mode": {
    "name": "ipython",
    "version": 3
   },
   "file_extension": ".py",
   "mimetype": "text/x-python",
   "name": "python",
   "nbconvert_exporter": "python",
   "pygments_lexer": "ipython3",
   "version": "3.9.0"
  }
 },
 "nbformat": 4,
 "nbformat_minor": 4
}