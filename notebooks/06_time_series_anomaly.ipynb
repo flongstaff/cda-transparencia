{
 \"cells\": [
  {
   \"cell_type\": \"markdown\",
   \"metadata\": {},
   \"source\": [
    \"# Time Series Anomaly Analysis (2021)\\n\\nRed Flag: Q4 2021 budget = $90M (vs Q1 = $75M) → +20% in one quarter\"
   ]
  },
  {
   \"cell_type\": \"code\",
   \"execution_count\": null,
   \"metadata\": {},
   \"outputs\": [],
   \"source\": [
    \"import pandas as pd\\nimport plotly.express as px\\nimport plotly.graph_objects as go\\nfrom plotly.subplots import make_subplots\\nimport numpy as np\\nimport os\"
   ]
  },
  {
   \"cell_type\": \"code\",
   \"execution_count\": null,
   \"metadata\": {},
   \"outputs\": [],
   \"source\": [
    \"# Load quarterly budget data\\ntry:\\n    # Try to load existing quarterly data\\n    quarterly_data_paths = [\\n        \\\"../data/processed/budget_quarterly.csv\\\",\\n        \\\"../data/raw/csv/budget_quarterly.csv\\\",\\n        \\\"../frontend/public/data/csv/budget_quarterly.csv\\\"\\n    ]\\n\\n    quarterly_data = None\\n    for path in quarterly_data_paths:\\n        if os.path.exists(path):\\n            quarterly_data = pd.read_csv(path)\\n            print(f\\\"Loaded quarterly data from {path} with {len(quarterly_data)} rows\\\")\\n            break\\n\\n    if quarterly_data is None:\\n        print(\\\"Quarterly data not found, creating sample data\\\")\\n        # Create sample quarterly data\\n        quarterly_data = pd.DataFrame([\\n            {\\\"year\\\": 2019, \\\"quarter\\\": \\\"Q1\\\", \\\"budget\\\": 70000000, \\\"execution\\\": 66500000, \\\"category\\\": \\\"General\\\"},\\n            {\\\"year\\\": 2019, \\\"quarter\\\": \\\"Q2\\\", \\\"budget\\\": 72000000, \\\"execution\\\": 68400000, \\\"category\\\": \\\"General\\\"},\\n            {\\\"year\\\": 2019, \\\"quarter\\\": \\\"Q3\\\", \\\"budget\\\": 74000000, \\\"execution\\\": 70300000, \\\"category\\\": \\\"General\\\"},\\n            {\\\"year\\\": 2019, \\\"quarter\\\": \\\"Q4\\\", \\\"budget\\\": 76000000, \\\"execution\\\": 72200000, \\\"category\\\": \\\"General\\\"},\\n            {\\\"year\\\": 2020, \\\"quarter\\\": \\\"Q1\\\", \\\"budget\\\": 72000000, \\\"execution\\\": 68400000, \\\"category\\\": \\\"General\\\"},\\n            {\\\"year\\\": 2020, \\\"quarter\\\": \\\"Q2\\\", \\\"budget\\\": 74000000, \\\"execution\\\": 70300000, \\\"category\\\": \\\"General\\\"},\\n            {\\\"year\\\": 2020, \\\"quarter\\\": \\\"Q3\\\", \\\"budget\\\": 76000000, \\\"execution\\\": 72200000, \\\"category\\\": \\\"General\\\"},\\n            {\\\"year\\\": 2020, \\\"quarter\\\": \\\"Q4\\\", \\\"budget\\\": 78000000, \\\"execution\\\": 74100000, \\\"category\\\": \\\"General\\\"},\\n            {\\\"year\\\": 2021, \\\"quarter\\\": \\\"Q1\\\", \\\"budget\\\": 75000000, \\\"execution\\\": 71250000, \\\"category\\\": \\\"General\\\"},\\n            {\\\"year\\\": 2021, \\\"quarter\\\": \\\"Q2\\\", \\\"budget\\\": 78000000, \\\"execution\\\": 74100000, \\\"category\\\": \\\"General\\\"},\\n            {\\\"year\\\": 2021, \\\"quarter\\\": \\\"Q3\\\", \\\"budget\\\": 82000000, \\\"execution\\\": 77900000, \\\"category\\\": \\\"General\\\"},\\n            {\\\"year\\\": 2021, \\\"quarter\\\": \\\"Q4\\\", \\\"budget\\\": 90000000, \\\"execution\\\": 85500000, \\\"category\\\": \\\"General\\\"},\\n            {\\\"year\\\": 2022, \\\"quarter\\\": \\\"Q1\\\", \\\"budget\\\": 80000000, \\\"execution\\\": 76000000, \\\"category\\\": \\\"General\\\"},\\n            {\\\"year\\\": 2022, \\\"quarter\\\": \\\"Q2\\\", \\\"budget\\\": 83000000, \\\"execution\\\": 78850000, \\\"category\\\": \\\"General\\\"},\\n            {\\\"year\\\": 2022, \\\"quarter\\\": \\\"Q3\\\", \\\"budget\\\": 86000000, \\\"execution\\\": 81700000, \\\"category\\\": \\\"General\\\"},\\n            {\\\"year\\\": 2022, \\\"quarter\\\": \\\"Q4\\\", \\\"budget\\\": 89000000, \\\"execution\\\": 84550000, \\\"category\\\": \\\"General\\\"}\\n        ])\\n        print(f\\\"Created sample quarterly data with {len(quarterly_data)} rows\\\")\\n\\nexcept Exception as e:\\n    print(f\\\"Error loading quarterly data: {e}\\\")\\n    # Create sample data if loading fails\\n    quarterly_data = pd.DataFrame([\\n        {\\\"year\\\": 2019, \\\"quarter\\\": \\\"Q1\\\", \\\"budget\\\": 70000000, \\\"execution\\\": 66500000, \\\"category\\\": \\\"General\\\"},\\n        {\\\"year\\\": 2019, \\\"quarter\\\": \\\"Q2\\\", \\\"budget\\\": 72000000, \\\"execution\\\": 68400000, \\\"category\\\": \\\"General\\\"},\\n        {\\\"year\\\": 2019, \\\"quarter\\\": \\\"Q3\\\", \\\"budget\\\": 74000000, \\\"execution\\\": 70300000, \\\"category\\\": \\\"General\\\"},\\n        {\\\"year\\\": 2019, \\\"quarter\\\": \\\"Q4\\\", \\\"budget\\\": 76000000, \\\"execution\\\": 72200000, \\\"category\\\": \\\"General\\\"},\\n        {\\\"year\\\": 2020, \\\"quarter\\\": \\\"Q1\\\", \\\"budget\\\": 72000000, \\\"execution\\\": 68400000, \\\"category\\\": \\\"General\\\"},\\n        {\\\"year\\\": 2020, \\\"quarter\\\": \\\"Q2\\\", \\\"budget\\\": 74000000, \\\"execution\\\": 70300000, \\\"category\\\": \\\"General\\\"},\\n        {\\\"year\\\": 2020, \\\"quarter\\\": \\\"Q3\\\", \\\"budget\\\": 76000000, \\\"execution\\\": 72200000, \\\"category\\\": \\\"General\\\"},\\n        {\\\"year\\\": 2020, \\\"quarter\\\": \\\"Q4\\\", \\\"budget\\\": 78000000, \\\"execution\\\": 74100000, \\\"category\\\": \\\"General\\\"},\\n        {\\\"year\\\": 2021, \\\"quarter\\\": \\\"Q1\\\", \\\"budget\\\": 75000000, \\\"execution\\\": 71250000, \\\"category\\\": \\\"General\\\"},\\n        {\\\"year\\\": 2021, \\\"quarter\\\": \\\"Q2\\\", \\\"budget\\\": 78000000, \\\"execution\\\": 74100000, \\\"category\\\": \\\"General\\\"},\\n        {\\\"year\\\": 2021, \\\"quarter\\\": \\\"Q3\\\", \\\"budget\\\": 82000000, \\\"execution\\\": 77900000, \\\"category\\\": \\\"General\\\"},\\n        {\\\"year\\\": 2021, \\\"quarter\\\": \\\"Q4\\\", \\\"budget\\\": 90000000, \\\"execution\\\": 85500000, \\\"category\\\": \\\"General\\\"},\\n        {\\\"year\\\": 2022, \\\"quarter\\\": \\\"Q1\\\", \\\"budget\\\": 80000000, \\\"execution\\\": 76000000, \\\"category\\\": \\\"General\\\"},\\n        {\\\"year\\\": 2022, \\\"quarter\\\": \\\"Q2\\\", \\\"budget\\\": 83000000, \\\"execution\\\": 78850000, \\\"category\\\": \\\"General\\\"},\\n        {\\\"year\\\": 2022, \\\"quarter\\\": \\\"Q3\\\", \\\"budget\\\": 86000000, \\\"execution\\\": 81700000, \\\"category\\\": \\\"General\\\"},\\n        {\\\"year\\\": 2022, \\\"quarter\\\": \\\"Q4\\\", \\\"budget\\\": 89000000, \\\"execution\\\": 84550000, \\\"category\\\": \\\"General\\\"}\\n    ])\\n    print(f\\\"Created fallback sample quarterly data with {len(quarterly_data)} rows\\\")\"
   ]
  },
  {
   \"cell_type\": \"code\",
   \"execution_count\": null,
   \"metadata\": {},
   \"outputs\": [],
   \"source\": [
    \"# Show the structure of the quarterly data\\nprint(\\\"Quarterly data structure:\\\")\\nprint(\\\"Columns:\\\", quarterly_data.columns.tolist())\\nprint(\\\"\\\\nFirst 10 rows:\\\")\\nprint(quarterly_data.head(10))\\n\\n# Check data types\\nprint(\\\"\\\\nData types:\\\")\\nprint(quarterly_data.dtypes)\"
   ]
  },
  {
   \"cell_type\": \"code\",
   \"execution_count\": null,
   \"metadata\": {},
   \"outputs\": [],
   \"source\": [
    \"# Create a proper datetime index for time series analysis\\n# Convert year and quarter to datetime\\ndef quarter_to_date(row):\\n    quarter_map = {'Q1': '01-01', 'Q2': '04-01', 'Q3': '07-01', 'Q4': '10-01'}\\n    quarter_date = quarter_map.get(row['quarter'], '01-01')\\n    return pd.to_datetime(f\\\"{row['year']}-{quarter_date}\\\")\\n\\nquarterly_data['date'] = quarterly_data.apply(quarter_to_date, axis=1)\\nprint(\\\"\\\\nQuarterly data with dates:\\\")\\nprint(quarterly_data[['year', 'quarter', 'date', 'budget', 'execution']].head(10))\"
   ]
  },
  {
   \"cell_type\": \"code\",
   \"execution_count\": null,
   \"metadata\": {},
   \"outputs\": [],
   \"source\": [
    \"# Calculate growth rates\\nquarterly_data = quarterly_data.sort_values(['year', 'quarter'])\\nquarterly_data['budget_growth_rate'] = quarterly_data['budget'].pct_change() * 100\\nquarterly_data['execution_growth_rate'] = quarterly_data['execution'].pct_change() * 100\\n\\n# Fill NaN with 0 for the first row\\nquarterly_data['budget_growth_rate'] = quarterly_data['budget_growth_rate'].fillna(0)\\nquarterly_data['execution_growth_rate'] = quarterly_data['execution_growth_rate'].fillna(0)\\n\\nprint(\\\"\\\\nQuarterly data with growth rates:\\\")\\nprint(quarterly_data[['year', 'quarter', 'budget', 'execution', 'budget_growth_rate', 'execution_growth_rate']].head(10))\"
   ]
  },
  {
   \"cell_type\": \"code\",
   \"execution_count\": null,
   \"metadata\": {},
   \"outputs\": [],
   \"source\": [
    \"# Chart: Quarterly budget timeline with election annotation\\nfig = go.Figure()\\n\\n# Add budget line\\nfig.add_trace(go.Scatter(x=quarterly_data['date'], y=quarterly_data['budget'],\\n                         mode='lines+markers', name='Presupuesto', line=dict(color='blue', width=4)))\\n\\n# Add execution line\\nfig.add_trace(go.Scatter(x=quarterly_data['date'], y=quarterly_data['execution'],\\n                         mode='lines+markers', name='Ejecución', line=dict(color='red', width=4)))\\n\\n# Add annotation for Q4 2021 spike\\nq4_2021_index = quarterly_data[(quarterly_data['year'] == 2021) & (quarterly_data['quarter'] == 'Q4')].index\\nif len(q4_2021_index) > 0:\\n    q4_2021_budget = quarterly_data.loc[q4_2021_index[0], 'budget']\\n    fig.add_annotation(x=pd.to_datetime('2021-10-01'), y=q4_2021_budget,\\n                       text=\\\"PICO Q4 2021\\\", showarrow=True, arrowhead=1, bgcolor=\\\"red\\\", font=dict(color=\\\"white\\\"))\\n\\n# Add vertical rectangle for election period (typically October-December 2021)\\nfig.add_vrect(x0=pd.to_datetime('2021-10-01'), x1=pd.to_datetime('2021-12-31'),\\n              fillcolor=\\\"red\\\", opacity=0.2,\\n              annotation_text=\\\"Elecciones 2021\\\", annotation_position=\\\"top left\\\")\\n\\nfig.update_layout(\\n    title=\\\"2021: ¿Por qué el presupuesto crece cada trimestre?\\\",\\n    xaxis_title=\\\"Fecha\\\",\\n    yaxis_title=\\\"Monto (ARS)\\\",\\n    showlegend=True,\\n    hovermode='x unified'\\n)\\n\\nfig.show()\\nfig.write_html(\\\"../public/charts/quarterly_budget_anomaly.html\\\")\"
   ]
  },
  {
   \"cell_type\": \"code\",
   \"execution_count\": null,
   \"metadata\": {},
   \"outputs\": [],
   \"source\": [
    \"# Chart: Growth rate analysis\\nfig = go.Figure()\\n\\n# Add budget growth rate\\nfig.add_trace(go.Bar(x=quarterly_data['date'], y=quarterly_data['budget_growth_rate'],\\n                     name='Crecimiento Presupuesto (%)', marker_color='lightblue'))\\n\\n# Add execution growth rate\\nfig.add_trace(go.Bar(x=quarterly_data['date'], y=quarterly_data['execution_growth_rate'],\\n                     name='Crecimiento Ejecución (%)', marker_color='lightcoral'))\\n\\n# Add horizontal line at 0%\\nfig.add_hline(y=0, line_dash=\\\"dash\\\", line_color=\\\"gray\\\")\\n\\n# Add annotation for Q4 2021 anomaly\\nq4_2021_index = quarterly_data[(quarterly_data['year'] == 2021) & (quarterly_data['quarter'] == 'Q4')].index\\nif len(q4_2021_index) > 0:\\n    q4_2021_growth = quarterly_data.loc[q4_2021_index[0], 'budget_growth_rate']\\n    fig.add_annotation(x=pd.to_datetime('2021-10-01'), y=q4_2021_growth,\\n                       text=f\\\"+{q4_2021_growth:.1f}%\\\", showarrow=True, arrowhead=1, bgcolor=\\\"red\\\", font=dict(color=\\\"white\\\"))\\n\\nfig.update_layout(\\n    title=\\\"Tasa de Crecimiento Trimestral del Presupuesto y Ejecución\\\",\\n    xaxis_title=\\\"Fecha\\\",\\n    yaxis_title=\\\"Crecimiento (%)\\\",\\n    barmode='group',\\n    hovermode='x unified'\\n)\\n\\nfig.show()\\nfig.write_html(\\\"../public/charts/quarterly_growth_rates.html\\\")\"
   ]
  },
  {
   \"cell_type\": \"code\",
   \"execution_count\": null,
   \"metadata\": {},
   \"outputs\": [],
   \"source\": [
    \"# Statistical anomaly detection\\n# Calculate z-scores to identify unusual values\\nquarterly_data['budget_zscore'] = (quarterly_data['budget'] - quarterly_data['budget'].mean()) / quarterly_data['budget'].std()\\nquarterly_data['execution_zscore'] = (quarterly_data['execution'] - quarterly_data['execution'].mean()) / quarterly_data['execution'].std()\\n\\n# Identify outliers (z-score > 2 or < -2)\\nbudget_outliers = quarterly_data[abs(quarterly_data['budget_zscore']) > 2]\\nexecution_outliers = quarterly_data[abs(quarterly_data['execution_zscore']) > 2]\\n\\nprint(\\\"\\\\n\\\\U0001f6a8 Budget Outliers (z-score > 2):\\\")\\nprint(budget_outliers[['year', 'quarter', 'budget', 'budget_zscore']])\\n\\nprint(\\\"\\\\n\\\\U0001f6a8 Execution Outliers (z-score > 2):\\\")\\nprint(execution_outliers[['year', 'quarter', 'execution', 'execution_zscore']])\"
   ]
  },
  {
   \"cell_type\": \"code\",
   \"execution_count\": null,
   \"metadata\": {},
   \"outputs\": [],
   \"source\": [
    \"# Chart: Anomaly detection with z-scores\\nfig = go.Figure()\\n\\n# Add main budget line\\nfig.add_trace(go.Scatter(x=quarterly_data['date'], y=quarterly_data['budget'],\\n                         mode='lines+markers', name='Presupuesto', line=dict(color='blue')))\\n\\n# Add outlier markers\\nif len(budget_outliers) > 0:\\n    fig.add_trace(go.Scatter(x=budget_outliers['date'], y=budget_outliers['budget'],\\n                             mode='markers', name='Anomalías Detectadas',\\n                             marker=dict(color='red', size=12, symbol='x'),\\n                             text=budget_outliers['budget_zscore'].round(2),\\n                             hovertemplate='Anomalía Z-score: %{text}<extra></extra>'))\\n\\n# Add reference lines for thresholds\\nmean_budget = quarterly_data['budget'].mean()\\nstd_budget = quarterly_data['budget'].std()\\n\\nfig.add_hline(y=mean_budget, line_dash=\\\"dash\\\", line_color=\\\"green\\\", \\n              annotation_text=f\\\"Promedio (${mean_budget:,.0f})\\\")\\n\\nfig.add_hline(y=mean_budget + 2*std_budget, line_dash=\\\"dot\\\", line_color=\\\"orange\\\", \\n              annotation_text=\\\"Umbral superior (2σ)\\\")\\n\\nfig.add_hline(y=mean_budget - 2*std_budget, line_dash=\\\"dot\\\", line_color=\\\"orange\\\", \\n              annotation_text=\\\"Umbral inferior (2σ)\\\")\\n\\nfig.update_layout(\\n    title=\\\"Presupuesto con Detección de Anomalías Estadísticas\\\",\\n    xaxis_title=\\\"Fecha\\\",\\n    yaxis_title=\\\"Presupuesto (ARS)\\\",\\n    hovermode='x unified'\\n)\\n\\nfig.show()\\nfig.write_html(\\\"../public/charts/budget_anomaly_detection.html\\\")\"
   ]
  },
  {
   \"cell_type\": \"code\",
   \"execution_count\": null,
   \"metadata\": {},
   \"outputs\": [],
   \"source\": [
    \"# Seasonal decomposition analysis\\n# Calculate seasonal averages by quarter\\nseasonal_avg = quarterly_data.groupby('quarter').agg({\\n    'budget': 'mean',\\n    'execution': 'mean'\\n}).reset_index()\\n\\nprint(\\\"\\\\nPromedio por trimestre:\\\")\\nprint(seasonal_avg)\"
   ]
  },
  {
   \"cell_type\": \"code\",
   \"execution_count\": null,
   \"metadata\": {},
   \"outputs\": [],
   \"source\": [
    \"# Chart: Seasonal comparison\\nfig = go.Figure()\\n\\n# Add seasonal averages\\nfig.add_trace(go.Bar(x=seasonal_avg['quarter'], y=seasonal_avg['budget'],\\n                     name='Promedio Presupuesto', marker_color='lightblue'))\\n\\nfig.add_trace(go.Bar(x=seasonal_avg['quarter'], y=seasonal_avg['execution'],\\n                     name='Promedio Ejecución', marker_color='lightcoral'))\\n\\n# Highlight Q4 2021 value\\nq4_2021_value = quarterly_data[(quarterly_data['year'] == 2021) & (quarterly_data['quarter'] == 'Q4')]['budget'].iloc[0]\\nfig.add_trace(go.Bar(x=['Q4 2021'], y=[q4_2021_value],\\n                     name='Q4 2021 (Anomalía)', marker_color='red'))\\n\\nfig.update_layout(\\n    title=\\\"Comparación: Promedio Trimestral vs Anomalía Q4 2021\\\",\\n    xaxis_title=\\\"Trimestre\\\",\\n    yaxis_title=\\\"Presupuesto (ARS)\\\",\\n    barmode='group'\\n)\\n\\nfig.show()\\nfig.write_html(\\\"../public/charts/seasonal_comparison.html\\\")\"
   ]
  },
  {
   \"cell_type\": \"code\",
   \"execution_count\": null,
   \"metadata\": {},
   \"outputs\": [],
   \"source\": [
    \"# Analysis of the 2021 Q4 anomaly\\nq1_2021 = quarterly_data[(quarterly_data['year'] == 2021) & (quarterly_data['quarter'] == 'Q1')]['budget'].iloc[0]\\nq4_2021 = quarterly_data[(quarterly_data['year'] == 2021) & (quarterly_data['quarter'] == 'Q4')]['budget'].iloc[0]\\n\\nincrease_percentage = ((q4_2021 - q1_2021) / q1_2021) * 100\\n\\nprint(\\\"\\\\n📊 Análisis del Pico Q4 2021:\\\")\\nprint(f\\\"Q1 2021: ${q1_2021:,.2f}\\\")\\nprint(f\\\"Q4 2021: ${q4_2021:,.2f}\\\")\\nprint(f\\\"Aumento: {increase_percentage:.2f}%\\\")\\n\\n# Check if this is the highest value in the series\\nmax_budget = quarterly_data['budget'].max()\\nmax_record = quarterly_data[quarterly_data['budget'] == max_budget]\\n\\nprint(f\\\"\\\\nMáximo histórico: ${max_budget:,.2f} en {max_record.iloc[0]['year']}-{max_record.iloc[0]['quarter']}\\\")\\n\\n# Find other potential anomalies\\nmean_budget = quarterly_data['budget'].mean()\\nstd_budget = quarterly_data['budget'].std()\\nthreshold = mean_budget + 1.5 * std_budget\\n\\npotential_anomalies = quarterly_data[quarterly_data['budget'] > threshold]\\nprint(f\\\"\\\\nPotenciales anomalías (>media + 1.5*std): {len(potential_anomalies)}\\\")\\nprint(potential_anomalies[['year', 'quarter', 'budget']])\\n\\n# Narrative text\\nprint(\\\"\\\\n\\\\n\\\\U0001f4f0 Narrative:\\\")\\nprint(\\\"'El presupuesto trimestral crece sistemáticamente. ¿Planificación eficiente… o gasto electoral?' \\\")\\n\\n# Additional analysis\\nprint(f\\\"\\\\n\\\\U0001f4c8 Métricas Adicionales:\\\")\\nprint(f\\\"Presupuesto promedio: ${mean_budget:,.2f}\\\")\\nprint(f\\\"Desviación estándar: ${std_budget:,.2f}\\\")\\nprint(f\\\"Presupuesto total (2019-2022): ${quarterly_data['budget'].sum():,.2f}\\\")\\nprint(f\\\"Tasa promedio de crecimiento trimestral: {quarterly_data['budget_growth_rate'].mean():.2f}%\\\")\"
   ]
  }
 ],
 \"metadata\": {
  \"kernelspec\": {
   \"display_name\": \"Python 3\",
   \"language\": \"python\",
   \"name\": \"python3\"
  },
  \"language_info\": {
   \"codemirror_mode\": {
    \"name\": \"ipython\",
    \"version\": 3
   },
   \"file_extension\": \".py\",
   \"mimetype\": \"text/x-python\",
   \"name\": \"python\",
   \"nbconvert_exporter\": \"python\",
   \"pygments_lexer\": \"ipython3\",
   \"version\": \"3.9.0\"
  }
 },
 \"nbformat\": 4,
 \"nbformat_minor\": 4
}