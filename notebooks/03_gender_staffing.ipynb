{
 \"cells\": [
  {
   \"cell_type\": \"markdown\",
   \"id\": \"0\",
   \"metadata\": {},
   \"source\": [
    \"# Gender Staffing Analysis\\n\\nThis notebook analyzes gender staffing data from the transparency portal.\"
   ]
  },
  {
   \"cell_type\": \"code\",
   \"execution_count\": null,
   \"id\": \"1\",
   \"metadata\": {},
   \"outputs\": [],
   \"source\": [
    \"import pandas as pd\\nimport plotly.express as px\\nimport plotly.graph_objects as go\\nfrom plotly.subplots import make_subplots\\nimport os\\nimport re\\n\\n# Create charts directory\\nos.makedirs(\\\"../public/charts\\\", exist_ok=True)\\n\\nprint(\\\"✅ Environment ready\\\")\"
   ]
  },
  {
   \"cell_type\": \"code\",
   \"execution_count\": null,
   \"id\": \"2\",
   \"metadata\": {},
   \"outputs\": [],
   \"source\": [
    \"# Search for gender staffing data in processed files\\nprint(\\\"🔍 Searching for gender files...\\\")\\n\\ngender_data_found = False\\n\\n# Look for gender-related files in processed data\\ntry:\\n    import glob\\n    \\n    # Search for files with gender-related terms\\n    gender_files = []\\n    for root, dirs, files in os.walk(\\\"../data/processed\\\"):\\n        for file in files:\\n            if any(term in file.lower() for term in [\\\"gender\\\", \\\"genero\\\", \\\"personal\\\", \\\"staff\\\", \\\"empleados\\\']):\\n                gender_files.append(os.path.join(root, file))\\n    \\n    print(f\\\"📁 Found {len(gender_files)} potential gender-related files\\\")\\n    \\n    # Show some examples\\n    for file in gender_files[:5]:\\n        print(f\\\"   • {os.path.basename(file)}\\\")\\n        \\n    if len(gender_files) > 5:\\n        print(f\\\"   ... and {len(gender_files) - 5} more\\\")\\n        \\nexcept Exception as e:\\n    print(f\\\"⚠️  Error searching for gender files: {e}\\\")\"
   ]
  },
  {
   \"cell_type\": \"code\",
   \"execution_count\": null,
   \"id\": \"3\",
   \"metadata\": {},
   \"outputs\": [],
   \"source\": [
    \"# If we have specific gender staffing data, we can create visualizations\\n# For now, we'll create a placeholder with explanation\\n\\nprint(\\\"ℹ️  Gender staffing data extraction requires additional PDF parsing\\\")\\nprint(\\\"ℹ️  The category_caif.csv file contains gender staffing data in rows like:\\\")\\nprint(\\\"   'PLANTEL DEL PERSONAL DESAGREGADO SEGÚN GÉNERO, ENE, FEB, ..., DIC'\\\")\\nprint(\\\"ℹ️  However, this data is not structured in a way that can be easily extracted\\\")\\nprint(\\\"ℹ️  To extract this data, we would need a dedicated PDF parser that can:\\\")\\nprint(\\\"   1. Identify tables with gender staffing information\\\")\\nprint(\\\"   2. Parse month-by-month staffing data\\\")\\nprint(\\\"   3. Structure the data for analysis\\\")\\n\\n# Create a placeholder chart explaining what would be needed\\nfig = go.Figure()\\n\\nfig.add_annotation(\\n    x=0.5,\\n    y=0.5,\\n    text=\\\"Gender Staffing Analysis<br><br>To analyze gender staffing data:<br>• Requires PDF parsing of personnel tables<br>• Need to extract month-by-month data<br>• Structure data for visualization<br><br>Future enhancement\\\",\\n    showarrow=False,\\n    font=dict(size=16),\\n    xref=\\\"paper\\\",\\n    yref=\\\"paper\\\"\\n)\\n\\nfig.update_layout(\\n    title=\\\"Gender Staffing Analysis (Placeholder)\\\",\\n    width=800,\\n    height=500,\\n    showlegend=False\\n)\\n\\n# Remove axes\\nfig.update_xaxes(showticklabels=False, showgrid=False, zeroline=False)\\nfig.update_yaxes(showticklabels=False, showgrid=False, zeroline=False)\\n\\nfig.show()\\nfig.write_html(\\\"../public/charts/gender_staffing_placeholder.html\\\")\\nprint(\\\"✅ Generated gender staffing placeholder chart\\\")\"
   ]
  },
  {
   \"cell_type\": \"code\",
   \"execution_count\": null,
   \"id\": \"4\",
   \"metadata\": {},
   \"outputs\": [],
   \"source\": [
    \"# Future implementation suggestion\\nprint(\\\"\\n📝 To implement gender staffing analysis:\\\")\\nprint(\\\"1. Create a PDF parser that can identify gender staffing tables\\\")\\nprint(\\\"2. Extract data from tables like 'PLANTEL DEL PERSONAL DESAGREGADO SEGÚN GÉNERO'\\\")\\nprint(\\\"3. Parse month-by-month staffing data (ENE, FEB, MAR, etc.)\\\")\\nprint(\\\"4. Structure the data with columns: year, month, male_staff, female_staff\\\")\\nprint(\\\"5. Create visualizations showing trends over time by gender\\\")\\n\\nprint(\\\"\\n📊 Potential visualizations:\\\")\\nprint(\\\"• Line chart showing male vs female staffing trends over time\\\")\\nprint(\\\"• Bar chart comparing gender distribution by department/sector\\\")\\nprint(\\\"• Heatmap showing staffing levels by month and gender\\\")\\nprint(\\\"• Pie charts showing gender distribution for different time periods\\\")\"
   ]
  }
 ],
 \"metadata\": {
  \"kernelspec\": {
   \"display_name\": \"Python 3\",
   \"language\": \"python\",
   \"name\": \"python3\"
  },
  \"language_info\": {
   \"codemirror_mode\": {
    \"name\": \"ipython\",
    \"version\": 3
   },
   \"file_extension\": \".py\",
   \"mimetype\": \"text/x-python\",
   \"name\": \"python\",
   \"nbconvert_exporter\": \"python\",
   \"pygments_lexer\": \"ipython3\",
   \"version\": \"3.8.10\"
  }
 },
 \"nbformat\": 4,
 \"nbformat_minor\": 5
}